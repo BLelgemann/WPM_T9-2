{
 "cells": [
  {
   "cell_type": "markdown",
   "metadata": {},
   "source": [
    "# Aufgabe 2: Python Script erstellen\n",
    "\n",
    "#### Autorin: Britta Lelgemann"
   ]
  },
  {
   "cell_type": "markdown",
   "metadata": {},
   "source": [
    "### Vorbereitung der Datenanalyse"
   ]
  },
  {
   "cell_type": "code",
   "execution_count": 1,
   "metadata": {},
   "outputs": [],
   "source": [
    "# Import des packages \"urllib\" und des Moduls \"request\": \n",
    "import urllib.request\n",
    "# Import von Pandas und Festlegung eines Alias: \n",
    "import pandas as pd \n",
    "# Befehl an jupyternotebook, dass Grafiken angezeigt werden sollen:\n",
    "%matplotlib inline"
   ]
  },
  {
   "cell_type": "code",
   "execution_count": 2,
   "metadata": {},
   "outputs": [],
   "source": [
    "# Angabe der URls, wo die Daten zu finden sind: \n",
    "url_2019 = \"https://data.seattle.gov/resource/tmmm-ytt6.csv?$where=checkoutyear=2019&$limit=10000\"\n",
    "url_2020 = \"https://data.seattle.gov/resource/tmmm-ytt6.csv?$where=checkoutyear=2020&$limit=10000\"\n",
    "# Erstellen von Dateien, in die die Daten gespeichert werden sollen & Festlegung von Variablen:\n",
    "checkouts_file_2019 = \"checkouts2019.csv\"\n",
    "checkouts_file_2020 = \"checkouts2020.csv\""
   ]
  },
  {
   "cell_type": "code",
   "execution_count": 3,
   "metadata": {},
   "outputs": [
    {
     "data": {
      "text/plain": [
       "'checkouts2019.csv'"
      ]
     },
     "execution_count": 3,
     "metadata": {},
     "output_type": "execute_result"
    }
   ],
   "source": [
    "# Testen ob Dateien stimmen:\n",
    "checkouts_file_2019 "
   ]
  },
  {
   "cell_type": "code",
   "execution_count": 4,
   "metadata": {},
   "outputs": [
    {
     "data": {
      "text/plain": [
       "'checkouts2020.csv'"
      ]
     },
     "execution_count": 4,
     "metadata": {},
     "output_type": "execute_result"
    }
   ],
   "source": [
    "checkouts_file_2020"
   ]
  },
  {
   "cell_type": "code",
   "execution_count": 33,
   "metadata": {},
   "outputs": [
    {
     "data": {
      "text/plain": [
       "'https://data.seattle.gov/resource/tmmm-ytt6.csv?$where=checkoutyear=2019&$limit=10000'"
      ]
     },
     "execution_count": 33,
     "metadata": {},
     "output_type": "execute_result"
    }
   ],
   "source": [
    "# Testen, ob URLs stimmen:\n",
    "url_2019"
   ]
  },
  {
   "cell_type": "code",
   "execution_count": 32,
   "metadata": {},
   "outputs": [
    {
     "data": {
      "text/plain": [
       "'https://data.seattle.gov/resource/tmmm-ytt6.csv?$where=checkoutyear=2020&$limit=10000'"
      ]
     },
     "execution_count": 32,
     "metadata": {},
     "output_type": "execute_result"
    }
   ],
   "source": [
    "url_2020"
   ]
  },
  {
   "cell_type": "code",
   "execution_count": 7,
   "metadata": {},
   "outputs": [
    {
     "data": {
      "text/plain": [
       "('checkouts2019.csv', <http.client.HTTPMessage at 0x2621e210388>)"
      ]
     },
     "execution_count": 7,
     "metadata": {},
     "output_type": "execute_result"
    }
   ],
   "source": [
    "# Download der Daten mit der Funktion \"urlretrieve\" aus der urllib-library und dem Modul \"request\":\n",
    "urllib.request.urlretrieve(url_2019, checkouts_file_2019)\n",
    "# -> in der Klammer stehen die Positionsargumente"
   ]
  },
  {
   "cell_type": "code",
   "execution_count": 8,
   "metadata": {},
   "outputs": [
    {
     "data": {
      "text/plain": [
       "('checkouts2020.csv', <http.client.HTTPMessage at 0x2621e0eb448>)"
      ]
     },
     "execution_count": 8,
     "metadata": {},
     "output_type": "execute_result"
    }
   ],
   "source": [
    "urllib.request.urlretrieve(url_2020, checkouts_file_2020)"
   ]
  },
  {
   "cell_type": "code",
   "execution_count": 31,
   "metadata": {
    "scrolled": true
   },
   "outputs": [
    {
     "data": {
      "text/html": [
       "<div>\n",
       "<style scoped>\n",
       "    .dataframe tbody tr th:only-of-type {\n",
       "        vertical-align: middle;\n",
       "    }\n",
       "\n",
       "    .dataframe tbody tr th {\n",
       "        vertical-align: top;\n",
       "    }\n",
       "\n",
       "    .dataframe thead th {\n",
       "        text-align: right;\n",
       "    }\n",
       "</style>\n",
       "<table border=\"1\" class=\"dataframe\">\n",
       "  <thead>\n",
       "    <tr style=\"text-align: right;\">\n",
       "      <th></th>\n",
       "      <th>checkouttype</th>\n",
       "      <th>materialtype</th>\n",
       "      <th>checkoutyear</th>\n",
       "      <th>checkoutmonth</th>\n",
       "      <th>checkouts</th>\n",
       "      <th>title</th>\n",
       "      <th>creator</th>\n",
       "      <th>subjects</th>\n",
       "      <th>publisher</th>\n",
       "      <th>publicationyear</th>\n",
       "    </tr>\n",
       "    <tr>\n",
       "      <th>usageclass</th>\n",
       "      <th></th>\n",
       "      <th></th>\n",
       "      <th></th>\n",
       "      <th></th>\n",
       "      <th></th>\n",
       "      <th></th>\n",
       "      <th></th>\n",
       "      <th></th>\n",
       "      <th></th>\n",
       "      <th></th>\n",
       "    </tr>\n",
       "  </thead>\n",
       "  <tbody>\n",
       "    <tr>\n",
       "      <th>Digital</th>\n",
       "      <td>OverDrive</td>\n",
       "      <td>AUDIOBOOK</td>\n",
       "      <td>2019</td>\n",
       "      <td>12</td>\n",
       "      <td>2</td>\n",
       "      <td>The Teenage Brain (Enchanced): A Neuroscientis...</td>\n",
       "      <td>Frances E. Jensen</td>\n",
       "      <td>Nonfiction, Psychology</td>\n",
       "      <td>HarperCollins Publishers Inc.</td>\n",
       "      <td>2015</td>\n",
       "    </tr>\n",
       "    <tr>\n",
       "      <th>Physical</th>\n",
       "      <td>Horizon</td>\n",
       "      <td>BOOK</td>\n",
       "      <td>2019</td>\n",
       "      <td>12</td>\n",
       "      <td>3</td>\n",
       "      <td>Richard Scarry's Smokey the fireman.</td>\n",
       "      <td>Scarry, Richard</td>\n",
       "      <td>Fire fighters Juvenile fiction, Animals Juveni...</td>\n",
       "      <td>Random House,</td>\n",
       "      <td>2015.</td>\n",
       "    </tr>\n",
       "    <tr>\n",
       "      <th>Physical</th>\n",
       "      <td>Horizon</td>\n",
       "      <td>BOOK</td>\n",
       "      <td>2019</td>\n",
       "      <td>12</td>\n",
       "      <td>1</td>\n",
       "      <td>Vernon Subutex : roman. Tome 1 / Virginie Desp...</td>\n",
       "      <td>Despentes, Virginie, 1969-</td>\n",
       "      <td>Music stores France Paris Fiction, Businessmen...</td>\n",
       "      <td>Grasset : Les Éditions Graset &amp; Fasquelle : Li...</td>\n",
       "      <td>janvier 2018.</td>\n",
       "    </tr>\n",
       "    <tr>\n",
       "      <th>Physical</th>\n",
       "      <td>Horizon</td>\n",
       "      <td>BOOK</td>\n",
       "      <td>2019</td>\n",
       "      <td>12</td>\n",
       "      <td>1</td>\n",
       "      <td>The lost Gospel of Mary : the Mother of Jesus ...</td>\n",
       "      <td>NaN</td>\n",
       "      <td>Mary Blessed Virgin Saint</td>\n",
       "      <td>Paraclete Press,</td>\n",
       "      <td>[2007]</td>\n",
       "    </tr>\n",
       "    <tr>\n",
       "      <th>Digital</th>\n",
       "      <td>OverDrive</td>\n",
       "      <td>EBOOK</td>\n",
       "      <td>2019</td>\n",
       "      <td>12</td>\n",
       "      <td>2</td>\n",
       "      <td>Be Mine Forever: Bennetts Series, Book 3</td>\n",
       "      <td>Kennedy Ryan</td>\n",
       "      <td>Fiction, Literature, Romance</td>\n",
       "      <td>Hachette Digital, Inc.</td>\n",
       "      <td>2015</td>\n",
       "    </tr>\n",
       "    <tr>\n",
       "      <th>...</th>\n",
       "      <td>...</td>\n",
       "      <td>...</td>\n",
       "      <td>...</td>\n",
       "      <td>...</td>\n",
       "      <td>...</td>\n",
       "      <td>...</td>\n",
       "      <td>...</td>\n",
       "      <td>...</td>\n",
       "      <td>...</td>\n",
       "      <td>...</td>\n",
       "    </tr>\n",
       "    <tr>\n",
       "      <th>Physical</th>\n",
       "      <td>Horizon</td>\n",
       "      <td>BOOK</td>\n",
       "      <td>2019</td>\n",
       "      <td>12</td>\n",
       "      <td>2</td>\n",
       "      <td>A history of the gypsies of Eastern Europe and...</td>\n",
       "      <td>Crowe, David</td>\n",
       "      <td>Romanies Russia Federation History, Romanies R...</td>\n",
       "      <td>Palgrave Macmilan/St. Martin's Griffin,</td>\n",
       "      <td>2007.</td>\n",
       "    </tr>\n",
       "    <tr>\n",
       "      <th>Digital</th>\n",
       "      <td>OverDrive</td>\n",
       "      <td>EBOOK</td>\n",
       "      <td>2019</td>\n",
       "      <td>12</td>\n",
       "      <td>1</td>\n",
       "      <td>The Apostle: Scot Harvath Series, Book 8</td>\n",
       "      <td>Brad Thor</td>\n",
       "      <td>Fiction, Thriller</td>\n",
       "      <td>Simon &amp; Schuster, Inc.</td>\n",
       "      <td>2014</td>\n",
       "    </tr>\n",
       "    <tr>\n",
       "      <th>Physical</th>\n",
       "      <td>Horizon</td>\n",
       "      <td>BOOK</td>\n",
       "      <td>2019</td>\n",
       "      <td>12</td>\n",
       "      <td>1</td>\n",
       "      <td>Bats in the band / written and illustrated by ...</td>\n",
       "      <td>Lies, Brian</td>\n",
       "      <td>Bats Juvenile fiction, Music Juvenile fiction,...</td>\n",
       "      <td>Houghton Mifflin Harcourt,</td>\n",
       "      <td>[2014]</td>\n",
       "    </tr>\n",
       "    <tr>\n",
       "      <th>Physical</th>\n",
       "      <td>Horizon</td>\n",
       "      <td>BOOK</td>\n",
       "      <td>2019</td>\n",
       "      <td>12</td>\n",
       "      <td>1</td>\n",
       "      <td>Silver girl : a novel / Elin Hilderbrand.</td>\n",
       "      <td>Hilderbrand, Elin</td>\n",
       "      <td>Female friendship Fiction, Women Massachusetts...</td>\n",
       "      <td>Little, Brown and Co.,</td>\n",
       "      <td>2011.</td>\n",
       "    </tr>\n",
       "    <tr>\n",
       "      <th>Digital</th>\n",
       "      <td>OverDrive</td>\n",
       "      <td>EBOOK</td>\n",
       "      <td>2019</td>\n",
       "      <td>12</td>\n",
       "      <td>8</td>\n",
       "      <td>Hope Never Dies: Obama Biden Mystery Series, B...</td>\n",
       "      <td>Andrew Shaffer</td>\n",
       "      <td>Fiction, Mystery, Thriller</td>\n",
       "      <td>Random House, Inc.</td>\n",
       "      <td>2018</td>\n",
       "    </tr>\n",
       "  </tbody>\n",
       "</table>\n",
       "<p>10000 rows × 10 columns</p>\n",
       "</div>"
      ],
      "text/plain": [
       "           checkouttype materialtype  checkoutyear  checkoutmonth  checkouts  \\\n",
       "usageclass                                                                     \n",
       "Digital       OverDrive    AUDIOBOOK          2019             12          2   \n",
       "Physical        Horizon         BOOK          2019             12          3   \n",
       "Physical        Horizon         BOOK          2019             12          1   \n",
       "Physical        Horizon         BOOK          2019             12          1   \n",
       "Digital       OverDrive        EBOOK          2019             12          2   \n",
       "...                 ...          ...           ...            ...        ...   \n",
       "Physical        Horizon         BOOK          2019             12          2   \n",
       "Digital       OverDrive        EBOOK          2019             12          1   \n",
       "Physical        Horizon         BOOK          2019             12          1   \n",
       "Physical        Horizon         BOOK          2019             12          1   \n",
       "Digital       OverDrive        EBOOK          2019             12          8   \n",
       "\n",
       "                                                        title  \\\n",
       "usageclass                                                      \n",
       "Digital     The Teenage Brain (Enchanced): A Neuroscientis...   \n",
       "Physical                 Richard Scarry's Smokey the fireman.   \n",
       "Physical    Vernon Subutex : roman. Tome 1 / Virginie Desp...   \n",
       "Physical    The lost Gospel of Mary : the Mother of Jesus ...   \n",
       "Digital              Be Mine Forever: Bennetts Series, Book 3   \n",
       "...                                                       ...   \n",
       "Physical    A history of the gypsies of Eastern Europe and...   \n",
       "Digital              The Apostle: Scot Harvath Series, Book 8   \n",
       "Physical    Bats in the band / written and illustrated by ...   \n",
       "Physical            Silver girl : a novel / Elin Hilderbrand.   \n",
       "Digital     Hope Never Dies: Obama Biden Mystery Series, B...   \n",
       "\n",
       "                               creator  \\\n",
       "usageclass                               \n",
       "Digital              Frances E. Jensen   \n",
       "Physical               Scarry, Richard   \n",
       "Physical    Despentes, Virginie, 1969-   \n",
       "Physical                           NaN   \n",
       "Digital                   Kennedy Ryan   \n",
       "...                                ...   \n",
       "Physical                  Crowe, David   \n",
       "Digital                      Brad Thor   \n",
       "Physical                   Lies, Brian   \n",
       "Physical             Hilderbrand, Elin   \n",
       "Digital                 Andrew Shaffer   \n",
       "\n",
       "                                                     subjects  \\\n",
       "usageclass                                                      \n",
       "Digital                                Nonfiction, Psychology   \n",
       "Physical    Fire fighters Juvenile fiction, Animals Juveni...   \n",
       "Physical    Music stores France Paris Fiction, Businessmen...   \n",
       "Physical                            Mary Blessed Virgin Saint   \n",
       "Digital                          Fiction, Literature, Romance   \n",
       "...                                                       ...   \n",
       "Physical    Romanies Russia Federation History, Romanies R...   \n",
       "Digital                                     Fiction, Thriller   \n",
       "Physical    Bats Juvenile fiction, Music Juvenile fiction,...   \n",
       "Physical    Female friendship Fiction, Women Massachusetts...   \n",
       "Digital                            Fiction, Mystery, Thriller   \n",
       "\n",
       "                                                    publisher publicationyear  \n",
       "usageclass                                                                     \n",
       "Digital                         HarperCollins Publishers Inc.            2015  \n",
       "Physical                                        Random House,           2015.  \n",
       "Physical    Grasset : Les Éditions Graset & Fasquelle : Li...   janvier 2018.  \n",
       "Physical                                     Paraclete Press,          [2007]  \n",
       "Digital                                Hachette Digital, Inc.            2015  \n",
       "...                                                       ...             ...  \n",
       "Physical              Palgrave Macmilan/St. Martin's Griffin,           2007.  \n",
       "Digital                                Simon & Schuster, Inc.            2014  \n",
       "Physical                           Houghton Mifflin Harcourt,          [2014]  \n",
       "Physical                               Little, Brown and Co.,           2011.  \n",
       "Digital                                    Random House, Inc.            2018  \n",
       "\n",
       "[10000 rows x 10 columns]"
      ]
     },
     "execution_count": 31,
     "metadata": {},
     "output_type": "execute_result"
    }
   ],
   "source": [
    "# Die Daten mit Pandas ausgeben und diesen Befehl in einer Variablen ablegen\n",
    "# -> Variable \"checkouts\" liest (zukünftig) die csv-Datei \"checkouts_file\" mit Hilfe von Pandas (pd) aus\n",
    "checkouts_2019 = pd.read_csv(checkouts_file_2019, index_col=0)\n",
    "checkouts_2019"
   ]
  },
  {
   "cell_type": "code",
   "execution_count": 30,
   "metadata": {},
   "outputs": [
    {
     "data": {
      "text/html": [
       "<div>\n",
       "<style scoped>\n",
       "    .dataframe tbody tr th:only-of-type {\n",
       "        vertical-align: middle;\n",
       "    }\n",
       "\n",
       "    .dataframe tbody tr th {\n",
       "        vertical-align: top;\n",
       "    }\n",
       "\n",
       "    .dataframe thead th {\n",
       "        text-align: right;\n",
       "    }\n",
       "</style>\n",
       "<table border=\"1\" class=\"dataframe\">\n",
       "  <thead>\n",
       "    <tr style=\"text-align: right;\">\n",
       "      <th></th>\n",
       "      <th>checkouttype</th>\n",
       "      <th>materialtype</th>\n",
       "      <th>checkoutyear</th>\n",
       "      <th>checkoutmonth</th>\n",
       "      <th>checkouts</th>\n",
       "      <th>title</th>\n",
       "      <th>creator</th>\n",
       "      <th>subjects</th>\n",
       "      <th>publisher</th>\n",
       "      <th>publicationyear</th>\n",
       "    </tr>\n",
       "    <tr>\n",
       "      <th>usageclass</th>\n",
       "      <th></th>\n",
       "      <th></th>\n",
       "      <th></th>\n",
       "      <th></th>\n",
       "      <th></th>\n",
       "      <th></th>\n",
       "      <th></th>\n",
       "      <th></th>\n",
       "      <th></th>\n",
       "      <th></th>\n",
       "    </tr>\n",
       "  </thead>\n",
       "  <tbody>\n",
       "    <tr>\n",
       "      <th>Digital</th>\n",
       "      <td>OverDrive</td>\n",
       "      <td>EBOOK</td>\n",
       "      <td>2020</td>\n",
       "      <td>5</td>\n",
       "      <td>5</td>\n",
       "      <td>Just One Night: A Sex, Love &amp; Stiletto Novel</td>\n",
       "      <td>Lauren Layne</td>\n",
       "      <td>Fiction, Romance</td>\n",
       "      <td>Random House, Inc.</td>\n",
       "      <td>2015</td>\n",
       "    </tr>\n",
       "    <tr>\n",
       "      <th>Digital</th>\n",
       "      <td>OverDrive</td>\n",
       "      <td>EBOOK</td>\n",
       "      <td>2020</td>\n",
       "      <td>5</td>\n",
       "      <td>3</td>\n",
       "      <td>The Impossible Climb: Alex Honnold, El Capitan...</td>\n",
       "      <td>Mark Synnott</td>\n",
       "      <td>Nonfiction, Sports &amp; Recreations</td>\n",
       "      <td>Penguin Group (USA), Inc.</td>\n",
       "      <td>2019</td>\n",
       "    </tr>\n",
       "    <tr>\n",
       "      <th>Digital</th>\n",
       "      <td>OverDrive</td>\n",
       "      <td>EBOOK</td>\n",
       "      <td>2020</td>\n",
       "      <td>5</td>\n",
       "      <td>1</td>\n",
       "      <td>Hemlock at Vespers: Sister Fidelma Series, Book 9</td>\n",
       "      <td>Peter Tremayne</td>\n",
       "      <td>Fiction, Historical Fiction, Mystery</td>\n",
       "      <td>Macmillan Publishers</td>\n",
       "      <td>2013</td>\n",
       "    </tr>\n",
       "    <tr>\n",
       "      <th>Digital</th>\n",
       "      <td>OverDrive</td>\n",
       "      <td>AUDIOBOOK</td>\n",
       "      <td>2020</td>\n",
       "      <td>5</td>\n",
       "      <td>1</td>\n",
       "      <td>Inherit the Stars: Giants Series, Book 1 (unab...</td>\n",
       "      <td>James P. Hogan</td>\n",
       "      <td>Fiction, Science Fiction</td>\n",
       "      <td>Blackstone Audio, Inc.</td>\n",
       "      <td>2013</td>\n",
       "    </tr>\n",
       "    <tr>\n",
       "      <th>Digital</th>\n",
       "      <td>OverDrive</td>\n",
       "      <td>AUDIOBOOK</td>\n",
       "      <td>2020</td>\n",
       "      <td>5</td>\n",
       "      <td>9</td>\n",
       "      <td>Death of a Liar: Hamish Macbeth Mystery Series...</td>\n",
       "      <td>M. C. Beaton</td>\n",
       "      <td>Fiction, Mystery</td>\n",
       "      <td>Blackstone Audio, Inc.</td>\n",
       "      <td>2015</td>\n",
       "    </tr>\n",
       "    <tr>\n",
       "      <th>...</th>\n",
       "      <td>...</td>\n",
       "      <td>...</td>\n",
       "      <td>...</td>\n",
       "      <td>...</td>\n",
       "      <td>...</td>\n",
       "      <td>...</td>\n",
       "      <td>...</td>\n",
       "      <td>...</td>\n",
       "      <td>...</td>\n",
       "      <td>...</td>\n",
       "    </tr>\n",
       "    <tr>\n",
       "      <th>Digital</th>\n",
       "      <td>OverDrive</td>\n",
       "      <td>AUDIOBOOK</td>\n",
       "      <td>2020</td>\n",
       "      <td>5</td>\n",
       "      <td>1</td>\n",
       "      <td>Waiting for the Weekend (Unabridged)</td>\n",
       "      <td>Witold Rybczynski</td>\n",
       "      <td>History, Nonfiction</td>\n",
       "      <td>Blackstone Audio, Inc.</td>\n",
       "      <td>2014</td>\n",
       "    </tr>\n",
       "    <tr>\n",
       "      <th>Digital</th>\n",
       "      <td>OverDrive</td>\n",
       "      <td>AUDIOBOOK</td>\n",
       "      <td>2020</td>\n",
       "      <td>5</td>\n",
       "      <td>3</td>\n",
       "      <td>The Feral Detective: A Novel (unabridged) (Una...</td>\n",
       "      <td>Jonathan Lethem</td>\n",
       "      <td>Fiction, Literature, Mystery</td>\n",
       "      <td>HarperCollins Publishers Inc.</td>\n",
       "      <td>2018</td>\n",
       "    </tr>\n",
       "    <tr>\n",
       "      <th>Digital</th>\n",
       "      <td>OverDrive</td>\n",
       "      <td>AUDIOBOOK</td>\n",
       "      <td>2020</td>\n",
       "      <td>5</td>\n",
       "      <td>5</td>\n",
       "      <td>Foul is Fair: A Novel (unabridged) (Unabridged)</td>\n",
       "      <td>Hannah Capin</td>\n",
       "      <td>Suspense, Thriller, Young Adult Fiction, Young...</td>\n",
       "      <td>Macmillan Audio</td>\n",
       "      <td>2020</td>\n",
       "    </tr>\n",
       "    <tr>\n",
       "      <th>Digital</th>\n",
       "      <td>OverDrive</td>\n",
       "      <td>EBOOK</td>\n",
       "      <td>2020</td>\n",
       "      <td>5</td>\n",
       "      <td>1</td>\n",
       "      <td>The Life and Opinions of Tristram Shandy, Gent...</td>\n",
       "      <td>Laurence Sterne</td>\n",
       "      <td>Classic Literature, Fiction, Historical Fictio...</td>\n",
       "      <td>Random House, Inc.</td>\n",
       "      <td>2012</td>\n",
       "    </tr>\n",
       "    <tr>\n",
       "      <th>Digital</th>\n",
       "      <td>OverDrive</td>\n",
       "      <td>EBOOK</td>\n",
       "      <td>2020</td>\n",
       "      <td>5</td>\n",
       "      <td>1</td>\n",
       "      <td>The Only Victor: Bolitho Series, Book 20</td>\n",
       "      <td>Alexander Kent</td>\n",
       "      <td>Fiction, Historical Fiction</td>\n",
       "      <td>Independent Publishers Group</td>\n",
       "      <td>2011</td>\n",
       "    </tr>\n",
       "  </tbody>\n",
       "</table>\n",
       "<p>10000 rows × 10 columns</p>\n",
       "</div>"
      ],
      "text/plain": [
       "           checkouttype materialtype  checkoutyear  checkoutmonth  checkouts  \\\n",
       "usageclass                                                                     \n",
       "Digital       OverDrive        EBOOK          2020              5          5   \n",
       "Digital       OverDrive        EBOOK          2020              5          3   \n",
       "Digital       OverDrive        EBOOK          2020              5          1   \n",
       "Digital       OverDrive    AUDIOBOOK          2020              5          1   \n",
       "Digital       OverDrive    AUDIOBOOK          2020              5          9   \n",
       "...                 ...          ...           ...            ...        ...   \n",
       "Digital       OverDrive    AUDIOBOOK          2020              5          1   \n",
       "Digital       OverDrive    AUDIOBOOK          2020              5          3   \n",
       "Digital       OverDrive    AUDIOBOOK          2020              5          5   \n",
       "Digital       OverDrive        EBOOK          2020              5          1   \n",
       "Digital       OverDrive        EBOOK          2020              5          1   \n",
       "\n",
       "                                                        title  \\\n",
       "usageclass                                                      \n",
       "Digital          Just One Night: A Sex, Love & Stiletto Novel   \n",
       "Digital     The Impossible Climb: Alex Honnold, El Capitan...   \n",
       "Digital     Hemlock at Vespers: Sister Fidelma Series, Book 9   \n",
       "Digital     Inherit the Stars: Giants Series, Book 1 (unab...   \n",
       "Digital     Death of a Liar: Hamish Macbeth Mystery Series...   \n",
       "...                                                       ...   \n",
       "Digital                  Waiting for the Weekend (Unabridged)   \n",
       "Digital     The Feral Detective: A Novel (unabridged) (Una...   \n",
       "Digital       Foul is Fair: A Novel (unabridged) (Unabridged)   \n",
       "Digital     The Life and Opinions of Tristram Shandy, Gent...   \n",
       "Digital              The Only Victor: Bolitho Series, Book 20   \n",
       "\n",
       "                      creator  \\\n",
       "usageclass                      \n",
       "Digital          Lauren Layne   \n",
       "Digital          Mark Synnott   \n",
       "Digital        Peter Tremayne   \n",
       "Digital        James P. Hogan   \n",
       "Digital          M. C. Beaton   \n",
       "...                       ...   \n",
       "Digital     Witold Rybczynski   \n",
       "Digital       Jonathan Lethem   \n",
       "Digital          Hannah Capin   \n",
       "Digital       Laurence Sterne   \n",
       "Digital        Alexander Kent   \n",
       "\n",
       "                                                     subjects  \\\n",
       "usageclass                                                      \n",
       "Digital                                      Fiction, Romance   \n",
       "Digital                      Nonfiction, Sports & Recreations   \n",
       "Digital                  Fiction, Historical Fiction, Mystery   \n",
       "Digital                              Fiction, Science Fiction   \n",
       "Digital                                      Fiction, Mystery   \n",
       "...                                                       ...   \n",
       "Digital                                   History, Nonfiction   \n",
       "Digital                          Fiction, Literature, Mystery   \n",
       "Digital     Suspense, Thriller, Young Adult Fiction, Young...   \n",
       "Digital     Classic Literature, Fiction, Historical Fictio...   \n",
       "Digital                           Fiction, Historical Fiction   \n",
       "\n",
       "                                publisher publicationyear  \n",
       "usageclass                                                 \n",
       "Digital                Random House, Inc.            2015  \n",
       "Digital         Penguin Group (USA), Inc.            2019  \n",
       "Digital              Macmillan Publishers            2013  \n",
       "Digital            Blackstone Audio, Inc.            2013  \n",
       "Digital            Blackstone Audio, Inc.            2015  \n",
       "...                                   ...             ...  \n",
       "Digital            Blackstone Audio, Inc.            2014  \n",
       "Digital     HarperCollins Publishers Inc.            2018  \n",
       "Digital                   Macmillan Audio            2020  \n",
       "Digital                Random House, Inc.            2012  \n",
       "Digital      Independent Publishers Group            2011  \n",
       "\n",
       "[10000 rows x 10 columns]"
      ]
     },
     "execution_count": 30,
     "metadata": {},
     "output_type": "execute_result"
    }
   ],
   "source": [
    "checkouts_2020 = pd.read_csv(checkouts_file_2020, index_col=0)\n",
    "checkouts_2020"
   ]
  },
  {
   "cell_type": "markdown",
   "metadata": {},
   "source": [
    "## Frage 1:\n",
    "### Wieviele E-Books wurden im Jahr 2019 im Vergleich zu physischen Büchern ausgeliehen? \n"
   ]
  },
  {
   "cell_type": "code",
   "execution_count": 48,
   "metadata": {},
   "outputs": [
    {
     "data": {
      "text/plain": [
       "Index(['checkouttype', 'materialtype', 'checkoutyear', 'checkoutmonth',\n",
       "       'checkouts', 'title', 'creator', 'subjects', 'publisher',\n",
       "       'publicationyear'],\n",
       "      dtype='object')"
      ]
     },
     "execution_count": 48,
     "metadata": {},
     "output_type": "execute_result"
    }
   ],
   "source": [
    "# Zunächst lasse ich mir alle Spalten anzeigen, um eine Übersicht zu bekommen:\n",
    "\n",
    "checkouts_2019.columns"
   ]
  },
  {
   "cell_type": "code",
   "execution_count": 49,
   "metadata": {},
   "outputs": [
    {
     "data": {
      "text/html": [
       "<div>\n",
       "<style scoped>\n",
       "    .dataframe tbody tr th:only-of-type {\n",
       "        vertical-align: middle;\n",
       "    }\n",
       "\n",
       "    .dataframe tbody tr th {\n",
       "        vertical-align: top;\n",
       "    }\n",
       "\n",
       "    .dataframe thead th {\n",
       "        text-align: right;\n",
       "    }\n",
       "</style>\n",
       "<table border=\"1\" class=\"dataframe\">\n",
       "  <thead>\n",
       "    <tr style=\"text-align: right;\">\n",
       "      <th></th>\n",
       "      <th>checkouttype</th>\n",
       "      <th>materialtype</th>\n",
       "      <th>checkoutyear</th>\n",
       "      <th>checkoutmonth</th>\n",
       "      <th>checkouts</th>\n",
       "      <th>title</th>\n",
       "      <th>creator</th>\n",
       "      <th>subjects</th>\n",
       "      <th>publisher</th>\n",
       "      <th>publicationyear</th>\n",
       "    </tr>\n",
       "    <tr>\n",
       "      <th>usageclass</th>\n",
       "      <th></th>\n",
       "      <th></th>\n",
       "      <th></th>\n",
       "      <th></th>\n",
       "      <th></th>\n",
       "      <th></th>\n",
       "      <th></th>\n",
       "      <th></th>\n",
       "      <th></th>\n",
       "      <th></th>\n",
       "    </tr>\n",
       "  </thead>\n",
       "  <tbody>\n",
       "    <tr>\n",
       "      <th>Digital</th>\n",
       "      <td>OverDrive</td>\n",
       "      <td>AUDIOBOOK</td>\n",
       "      <td>2019</td>\n",
       "      <td>12</td>\n",
       "      <td>2</td>\n",
       "      <td>The Teenage Brain (Enchanced): A Neuroscientis...</td>\n",
       "      <td>Frances E. Jensen</td>\n",
       "      <td>Nonfiction, Psychology</td>\n",
       "      <td>HarperCollins Publishers Inc.</td>\n",
       "      <td>2015</td>\n",
       "    </tr>\n",
       "    <tr>\n",
       "      <th>Physical</th>\n",
       "      <td>Horizon</td>\n",
       "      <td>BOOK</td>\n",
       "      <td>2019</td>\n",
       "      <td>12</td>\n",
       "      <td>3</td>\n",
       "      <td>Richard Scarry's Smokey the fireman.</td>\n",
       "      <td>Scarry, Richard</td>\n",
       "      <td>Fire fighters Juvenile fiction, Animals Juveni...</td>\n",
       "      <td>Random House,</td>\n",
       "      <td>2015.</td>\n",
       "    </tr>\n",
       "    <tr>\n",
       "      <th>Physical</th>\n",
       "      <td>Horizon</td>\n",
       "      <td>BOOK</td>\n",
       "      <td>2019</td>\n",
       "      <td>12</td>\n",
       "      <td>1</td>\n",
       "      <td>Vernon Subutex : roman. Tome 1 / Virginie Desp...</td>\n",
       "      <td>Despentes, Virginie, 1969-</td>\n",
       "      <td>Music stores France Paris Fiction, Businessmen...</td>\n",
       "      <td>Grasset : Les Éditions Graset &amp; Fasquelle : Li...</td>\n",
       "      <td>janvier 2018.</td>\n",
       "    </tr>\n",
       "    <tr>\n",
       "      <th>Physical</th>\n",
       "      <td>Horizon</td>\n",
       "      <td>BOOK</td>\n",
       "      <td>2019</td>\n",
       "      <td>12</td>\n",
       "      <td>1</td>\n",
       "      <td>The lost Gospel of Mary : the Mother of Jesus ...</td>\n",
       "      <td>NaN</td>\n",
       "      <td>Mary Blessed Virgin Saint</td>\n",
       "      <td>Paraclete Press,</td>\n",
       "      <td>[2007]</td>\n",
       "    </tr>\n",
       "    <tr>\n",
       "      <th>Digital</th>\n",
       "      <td>OverDrive</td>\n",
       "      <td>EBOOK</td>\n",
       "      <td>2019</td>\n",
       "      <td>12</td>\n",
       "      <td>2</td>\n",
       "      <td>Be Mine Forever: Bennetts Series, Book 3</td>\n",
       "      <td>Kennedy Ryan</td>\n",
       "      <td>Fiction, Literature, Romance</td>\n",
       "      <td>Hachette Digital, Inc.</td>\n",
       "      <td>2015</td>\n",
       "    </tr>\n",
       "  </tbody>\n",
       "</table>\n",
       "</div>"
      ],
      "text/plain": [
       "           checkouttype materialtype  checkoutyear  checkoutmonth  checkouts  \\\n",
       "usageclass                                                                     \n",
       "Digital       OverDrive    AUDIOBOOK          2019             12          2   \n",
       "Physical        Horizon         BOOK          2019             12          3   \n",
       "Physical        Horizon         BOOK          2019             12          1   \n",
       "Physical        Horizon         BOOK          2019             12          1   \n",
       "Digital       OverDrive        EBOOK          2019             12          2   \n",
       "\n",
       "                                                        title  \\\n",
       "usageclass                                                      \n",
       "Digital     The Teenage Brain (Enchanced): A Neuroscientis...   \n",
       "Physical                 Richard Scarry's Smokey the fireman.   \n",
       "Physical    Vernon Subutex : roman. Tome 1 / Virginie Desp...   \n",
       "Physical    The lost Gospel of Mary : the Mother of Jesus ...   \n",
       "Digital              Be Mine Forever: Bennetts Series, Book 3   \n",
       "\n",
       "                               creator  \\\n",
       "usageclass                               \n",
       "Digital              Frances E. Jensen   \n",
       "Physical               Scarry, Richard   \n",
       "Physical    Despentes, Virginie, 1969-   \n",
       "Physical                           NaN   \n",
       "Digital                   Kennedy Ryan   \n",
       "\n",
       "                                                     subjects  \\\n",
       "usageclass                                                      \n",
       "Digital                                Nonfiction, Psychology   \n",
       "Physical    Fire fighters Juvenile fiction, Animals Juveni...   \n",
       "Physical    Music stores France Paris Fiction, Businessmen...   \n",
       "Physical                            Mary Blessed Virgin Saint   \n",
       "Digital                          Fiction, Literature, Romance   \n",
       "\n",
       "                                                    publisher publicationyear  \n",
       "usageclass                                                                     \n",
       "Digital                         HarperCollins Publishers Inc.            2015  \n",
       "Physical                                        Random House,           2015.  \n",
       "Physical    Grasset : Les Éditions Graset & Fasquelle : Li...   janvier 2018.  \n",
       "Physical                                     Paraclete Press,          [2007]  \n",
       "Digital                                Hachette Digital, Inc.            2015  "
      ]
     },
     "execution_count": 49,
     "metadata": {},
     "output_type": "execute_result"
    }
   ],
   "source": [
    "# Als grafische Alternative lasse ich mir die ersten paar Zeilen anzeigen:\n",
    "\n",
    "checkouts_2019.head()"
   ]
  },
  {
   "cell_type": "code",
   "execution_count": 50,
   "metadata": {},
   "outputs": [
    {
     "data": {
      "text/plain": [
       "checkouttype       object\n",
       "materialtype       object\n",
       "checkoutyear        int64\n",
       "checkoutmonth       int64\n",
       "checkouts           int64\n",
       "title              object\n",
       "creator            object\n",
       "subjects           object\n",
       "publisher          object\n",
       "publicationyear    object\n",
       "dtype: object"
      ]
     },
     "execution_count": 50,
     "metadata": {},
     "output_type": "execute_result"
    }
   ],
   "source": [
    "# Dann lasse ich mir die Datentypen anzeigen\n",
    "\n",
    "checkouts_2019.dtypes"
   ]
  },
  {
   "cell_type": "code",
   "execution_count": 41,
   "metadata": {},
   "outputs": [
    {
     "data": {
      "text/plain": [
       "usageclass\n",
       "Digital     AUDIOBOOK\n",
       "Physical         BOOK\n",
       "Physical         BOOK\n",
       "Physical         BOOK\n",
       "Digital         EBOOK\n",
       "              ...    \n",
       "Physical         BOOK\n",
       "Digital         EBOOK\n",
       "Physical         BOOK\n",
       "Physical         BOOK\n",
       "Digital         EBOOK\n",
       "Name: materialtype, Length: 10000, dtype: object"
      ]
     },
     "execution_count": 41,
     "metadata": {},
     "output_type": "execute_result"
    }
   ],
   "source": [
    "# Nun möchte ich mir die Spalte anzeigen lassen, die den Materialtyp beschäftigt\n",
    "\n",
    "checkouts_2019[\"materialtype\"]"
   ]
  },
  {
   "cell_type": "code",
   "execution_count": 42,
   "metadata": {},
   "outputs": [
    {
     "data": {
      "text/plain": [
       "BOOK                              4421\n",
       "EBOOK                             2747\n",
       "AUDIOBOOK                         1138\n",
       "VIDEODISC                          885\n",
       "SOUNDDISC                          737\n",
       "REGPRINT                            22\n",
       "MUSIC                               15\n",
       "VIDEO                                9\n",
       "SOUNDDISC, VIDEODISC                 9\n",
       "LARGEPRINT                           4\n",
       "ER                                   4\n",
       "ER, SOUNDDISC                        3\n",
       "CR                                   1\n",
       "ATLAS                                1\n",
       "SOUNDCASS, SOUNDDISC, SOUNDREC       1\n",
       "VISUAL                               1\n",
       "SOUNDREC                             1\n",
       "MUSICSNDREC                          1\n",
       "Name: materialtype, dtype: int64"
      ]
     },
     "execution_count": 42,
     "metadata": {},
     "output_type": "execute_result"
    }
   ],
   "source": [
    "# ... dies ist noch nicht sonderlich aussagekräftig ...\n",
    "# ... deshalb wird nun mit der Funktion \"value_counts\" gezählt, wieviel von dem jeweiligen Materialtyp ausgeliehen wurde.\n",
    "\n",
    "checkouts_2019.materialtype.value_counts()"
   ]
  },
  {
   "cell_type": "code",
   "execution_count": 43,
   "metadata": {},
   "outputs": [
    {
     "data": {
      "text/plain": [
       "<matplotlib.axes._subplots.AxesSubplot at 0x2621fb7f988>"
      ]
     },
     "execution_count": 43,
     "metadata": {},
     "output_type": "execute_result"
    },
    {
     "data": {
      "image/png": "[encoded data removed]",
      "text/plain": [
       "<Figure size 432x288 with 1 Axes>"
      ]
     },
     "metadata": {
      "needs_background": "light"
     },
     "output_type": "display_data"
    }
   ],
   "source": [
    "# Da habe ich schon mein Ergebnis. \n",
    "# Nun möchte ich aber auch noch gerne grafisch darstellen, wie groß der Anteil der E-Book-Ausleihen im Vergleich zu dem Anteil der physischen Literatur ist.\n",
    "\n",
    "checkouts_2019[\"materialtype\"].hist()"
   ]
  },
  {
   "cell_type": "code",
   "execution_count": 35,
   "metadata": {},
   "outputs": [],
   "source": [
    "# ... ich hätte aber gerne nur die Books und die E-Books in der Grafik dargestellt:\n"
   ]
  },
  {
   "cell_type": "markdown",
   "metadata": {},
   "source": [
    "## Antwort: \n",
    "#### Es wurden insgesamt  4421 Bücher ausgeliehen und 2747 E-Books. D.h. der Anteil an physischen Ausleihen ist immer noch deutlich höher"
   ]
  },
  {
   "cell_type": "markdown",
   "metadata": {},
   "source": []
  },
  {
   "cell_type": "code",
   "execution_count": null,
   "metadata": {},
   "outputs": [],
   "source": []
  }
 ],
 "metadata": {
  "kernelspec": {
   "display_name": "Python 3",
   "language": "python",
   "name": "python3"
  },
  "language_info": {
   "codemirror_mode": {
    "name": "ipython",
    "version": 3
   },
   "file_extension": ".py",
   "mimetype": "text/x-python",
   "name": "python",
   "nbconvert_exporter": "python",
   "pygments_lexer": "ipython3",
   "version": "3.7.6"
  }
 },
 "nbformat": 4,
 "nbformat_minor": 4
}
