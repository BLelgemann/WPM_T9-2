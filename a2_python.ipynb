{
 "cells": [
  {
   "cell_type": "markdown",
   "metadata": {},
   "source": [
    "# Aufgabe 2: Python Script erstellen\n",
    "\n",
    "#### Autorin: Britta Lelgemann"
   ]
  },
  {
   "cell_type": "markdown",
   "metadata": {},
   "source": [
    "### Vorbereitung der Datenanalyse"
   ]
  },
  {
   "cell_type": "code",
   "execution_count": 3,
   "metadata": {},
   "outputs": [],
   "source": [
    "# Import des packages \"urllib\" und des Moduls \"request\": \n",
    "import urllib.request\n",
    "# Import von Pandas und Festlegung eines Alias: \n",
    "import pandas as pd \n",
    "# Befehl an jupyternotebook, dass Grafiken angezeigt werden sollen:\n",
    "%matplotlib inline"
   ]
  },
  {
   "cell_type": "code",
   "execution_count": 4,
   "metadata": {},
   "outputs": [],
   "source": [
    "# Angabe der URls, wo die Daten zu finden sind: \n",
    "url_2019 = \"https://data.seattle.gov/resource/tmmm-ytt6.csv?$where=checkoutyear=2019&$limit=10000\"\n",
    "url_2020 = \"https://data.seattle.gov/resource/tmmm-ytt6.csv?$where=checkoutyear=2020&$limit=10000\"\n",
    "# Erstellen von Dateien, in die die Daten gespeichert werden sollen & Festlegung von Variablen:\n",
    "checkouts_file_2019 = \"checkouts2019.csv\"\n",
    "checkouts_file_2020 = \"checkouts2020.csv\""
   ]
  },
  {
   "cell_type": "code",
   "execution_count": 38,
   "metadata": {},
   "outputs": [
    {
     "data": {
      "text/plain": [
       "('checkouts2019.csv', <http.client.HTTPMessage at 0x20cfc1d6dc8>)"
      ]
     },
     "execution_count": 38,
     "metadata": {},
     "output_type": "execute_result"
    }
   ],
   "source": [
    "# Download der Daten mit der Funktion \"urlretrieve\" aus der urllib-library und dem Modul \"request\":\n",
    "urllib.request.urlretrieve(url_2019, checkouts_file_2019)"
   ]
  },
  {
   "cell_type": "code",
   "execution_count": 37,
   "metadata": {},
   "outputs": [
    {
     "data": {
      "text/plain": [
       "('checkouts2020.csv', <http.client.HTTPMessage at 0x20cfb5004c8>)"
      ]
     },
     "execution_count": 37,
     "metadata": {},
     "output_type": "execute_result"
    }
   ],
   "source": [
    "urllib.request.urlretrieve(url_2020, checkouts_file_2020)\n",
    "# -> in der Klammer stehen die Positionsargumente"
   ]
  },
  {
   "cell_type": "code",
   "execution_count": 35,
   "metadata": {
    "scrolled": true
   },
   "outputs": [],
   "source": [
    "# Die Daten mit Pandas ausgeben und diesen Befehl in einer Variablen ablegen:\n",
    "checkouts_2019 = pd.read_csv(checkouts_file_2019, index_col=0)"
   ]
  },
  {
   "cell_type": "code",
   "execution_count": 36,
   "metadata": {},
   "outputs": [],
   "source": [
    "checkouts_2020 = pd.read_csv(checkouts_file_2020, index_col=0)\n",
    "# -> Variable \"checkouts\" liest (zukünftig) die csv-Datei \"checkouts_file\" mit Hilfe von Pandas (pd) aus:"
   ]
  },
  {
   "cell_type": "markdown",
   "metadata": {},
   "source": [
    "### Frage 1: Wieviele E-Books wurden im Jahr 2019 im Vergleich zu physischen Büchern ausgeliehen? \n"
   ]
  },
  {
   "cell_type": "code",
   "execution_count": 16,
   "metadata": {},
   "outputs": [
    {
     "data": {
      "text/plain": [
       "Index(['checkouttype', 'materialtype', 'checkoutyear', 'checkoutmonth',\n",
       "       'checkouts', 'title', 'creator', 'subjects', 'publisher',\n",
       "       'publicationyear'],\n",
       "      dtype='object')"
      ]
     },
     "execution_count": 16,
     "metadata": {},
     "output_type": "execute_result"
    }
   ],
   "source": [
    "# Spalten anzeigen lassen, um eine Übersicht zu bekommen:\n",
    "checkouts_2019.columns"
   ]
  },
  {
   "cell_type": "code",
   "execution_count": 39,
   "metadata": {},
   "outputs": [
    {
     "data": {
      "text/html": [
       "<div>\n",
       "<style scoped>\n",
       "    .dataframe tbody tr th:only-of-type {\n",
       "        vertical-align: middle;\n",
       "    }\n",
       "\n",
       "    .dataframe tbody tr th {\n",
       "        vertical-align: top;\n",
       "    }\n",
       "\n",
       "    .dataframe thead th {\n",
       "        text-align: right;\n",
       "    }\n",
       "</style>\n",
       "<table border=\"1\" class=\"dataframe\">\n",
       "  <thead>\n",
       "    <tr style=\"text-align: right;\">\n",
       "      <th></th>\n",
       "      <th>checkouttype</th>\n",
       "      <th>materialtype</th>\n",
       "      <th>checkoutyear</th>\n",
       "      <th>checkoutmonth</th>\n",
       "      <th>checkouts</th>\n",
       "      <th>title</th>\n",
       "      <th>creator</th>\n",
       "      <th>subjects</th>\n",
       "      <th>publisher</th>\n",
       "      <th>publicationyear</th>\n",
       "    </tr>\n",
       "    <tr>\n",
       "      <th>usageclass</th>\n",
       "      <th></th>\n",
       "      <th></th>\n",
       "      <th></th>\n",
       "      <th></th>\n",
       "      <th></th>\n",
       "      <th></th>\n",
       "      <th></th>\n",
       "      <th></th>\n",
       "      <th></th>\n",
       "      <th></th>\n",
       "    </tr>\n",
       "  </thead>\n",
       "  <tbody>\n",
       "    <tr>\n",
       "      <th>Digital</th>\n",
       "      <td>OverDrive</td>\n",
       "      <td>AUDIOBOOK</td>\n",
       "      <td>2019</td>\n",
       "      <td>12</td>\n",
       "      <td>2</td>\n",
       "      <td>The Teenage Brain (Enchanced): A Neuroscientis...</td>\n",
       "      <td>Frances E. Jensen</td>\n",
       "      <td>Nonfiction, Psychology</td>\n",
       "      <td>HarperCollins Publishers Inc.</td>\n",
       "      <td>2015</td>\n",
       "    </tr>\n",
       "    <tr>\n",
       "      <th>Physical</th>\n",
       "      <td>Horizon</td>\n",
       "      <td>BOOK</td>\n",
       "      <td>2019</td>\n",
       "      <td>12</td>\n",
       "      <td>3</td>\n",
       "      <td>Richard Scarry's Smokey the fireman.</td>\n",
       "      <td>Scarry, Richard</td>\n",
       "      <td>Fire fighters Juvenile fiction, Animals Juveni...</td>\n",
       "      <td>Random House,</td>\n",
       "      <td>2015.</td>\n",
       "    </tr>\n",
       "  </tbody>\n",
       "</table>\n",
       "</div>"
      ],
      "text/plain": [
       "           checkouttype materialtype  checkoutyear  checkoutmonth  checkouts  \\\n",
       "usageclass                                                                     \n",
       "Digital       OverDrive    AUDIOBOOK          2019             12          2   \n",
       "Physical        Horizon         BOOK          2019             12          3   \n",
       "\n",
       "                                                        title  \\\n",
       "usageclass                                                      \n",
       "Digital     The Teenage Brain (Enchanced): A Neuroscientis...   \n",
       "Physical                 Richard Scarry's Smokey the fireman.   \n",
       "\n",
       "                      creator  \\\n",
       "usageclass                      \n",
       "Digital     Frances E. Jensen   \n",
       "Physical      Scarry, Richard   \n",
       "\n",
       "                                                     subjects  \\\n",
       "usageclass                                                      \n",
       "Digital                                Nonfiction, Psychology   \n",
       "Physical    Fire fighters Juvenile fiction, Animals Juveni...   \n",
       "\n",
       "                                publisher publicationyear  \n",
       "usageclass                                                 \n",
       "Digital     HarperCollins Publishers Inc.            2015  \n",
       "Physical                    Random House,           2015.  "
      ]
     },
     "execution_count": 39,
     "metadata": {},
     "output_type": "execute_result"
    }
   ],
   "source": [
    "# Anzeige der ersten zwei Zeilen der Liste:\n",
    "checkouts_2019.head(2)"
   ]
  },
  {
   "cell_type": "code",
   "execution_count": 16,
   "metadata": {},
   "outputs": [
    {
     "data": {
      "text/plain": [
       "checkouttype       object\n",
       "materialtype       object\n",
       "checkoutyear        int64\n",
       "checkoutmonth       int64\n",
       "checkouts           int64\n",
       "title              object\n",
       "creator            object\n",
       "subjects           object\n",
       "publisher          object\n",
       "publicationyear    object\n",
       "dtype: object"
      ]
     },
     "execution_count": 16,
     "metadata": {},
     "output_type": "execute_result"
    }
   ],
   "source": [
    "# Datentypen anzeigen lassen:\n",
    "checkouts_2019.dtypes"
   ]
  },
  {
   "cell_type": "code",
   "execution_count": 18,
   "metadata": {},
   "outputs": [
    {
     "data": {
      "text/plain": [
       "BOOK                              4416\n",
       "EBOOK                             2749\n",
       "AUDIOBOOK                         1133\n",
       "VIDEODISC                          883\n",
       "SOUNDDISC                          746\n",
       "REGPRINT                            23\n",
       "MUSIC                               15\n",
       "SOUNDDISC, VIDEODISC                 9\n",
       "VIDEO                                9\n",
       "LARGEPRINT                           4\n",
       "ER                                   4\n",
       "ER, SOUNDDISC                        3\n",
       "MUSICSNDREC                          1\n",
       "SOUNDREC                             1\n",
       "CR                                   1\n",
       "SOUNDCASS, SOUNDDISC, SOUNDREC       1\n",
       "ATLAS                                1\n",
       "VISUAL                               1\n",
       "Name: materialtype, dtype: int64"
      ]
     },
     "execution_count": 18,
     "metadata": {},
     "output_type": "execute_result"
    }
   ],
   "source": [
    "# Mithilfe der Funktion \"value_counts\" zählen, wieviel von dem jeweiligen Materialtyp ausgeliehen wurde:\n",
    "checkouts_2019.materialtype.value_counts()"
   ]
  },
  {
   "cell_type": "code",
   "execution_count": 71,
   "metadata": {},
   "outputs": [
    {
     "name": "stdout",
     "output_type": "stream",
     "text": [
      "Checkouts BOOKs: 4416\n",
      "Checkouts EBOOKs: 2749\n"
     ]
    }
   ],
   "source": [
    "# Ich filtere die Ergebnisse und lege sie jeweils in einer Variable ab:\n",
    "BOOKs = checkouts_2019.loc[checkouts_2019['materialtype'] == 'BOOK'].count()[0]\n",
    "EBOOKs = checkouts_2019.loc[checkouts_2019['materialtype'] == 'EBOOK'].count()[0]\n",
    "\n",
    "# Dann lasse ich die gefilterten Ergbnisse ausgeben:\n",
    "print('Checkouts BOOKs:', BOOKs)\n",
    "print('Checkouts EBOOKs:', EBOOKs)"
   ]
  },
  {
   "cell_type": "markdown",
   "metadata": {},
   "source": [
    "#### Antwort: Es wurden insgesamt  4421 Bücher ausgeliehen und 2747 E-Books."
   ]
  },
  {
   "cell_type": "markdown",
   "metadata": {},
   "source": [
    "### Frage 2: Wieviele digitale Medien wurden bisher im Jahr 2020 im Vergleich zu physischen Medien ausgeliehen? "
   ]
  },
  {
   "cell_type": "code",
   "execution_count": 72,
   "metadata": {},
   "outputs": [
    {
     "data": {
      "text/plain": [
       "usageclass\n",
       "Digital     AUDIOBOOK\n",
       "Physical         BOOK\n",
       "Physical         BOOK\n",
       "Physical         BOOK\n",
       "Digital         EBOOK\n",
       "              ...    \n",
       "Physical         BOOK\n",
       "Digital         EBOOK\n",
       "Digital         EBOOK\n",
       "Physical         BOOK\n",
       "Physical    VIDEODISC\n",
       "Name: materialtype, Length: 10000, dtype: object"
      ]
     },
     "execution_count": 72,
     "metadata": {},
     "output_type": "execute_result"
    }
   ],
   "source": [
    "# Zur Erinnerung: es gibt Materialtypen, die unterschiedliche \"usageclasses\" haben, d.h. sie sind \"Digital\" oder \"Physical\":\n",
    "checkouts_2019['materialtype']"
   ]
  },
  {
   "cell_type": "code",
   "execution_count": 70,
   "metadata": {},
   "outputs": [],
   "source": [
    "# Nun möchte ich gerne zählen, wieviele digitale und physische Medien ausgeliehen wurden."
   ]
  },
  {
   "cell_type": "code",
   "execution_count": null,
   "metadata": {},
   "outputs": [],
   "source": []
  },
  {
   "cell_type": "code",
   "execution_count": null,
   "metadata": {},
   "outputs": [],
   "source": []
  },
  {
   "cell_type": "code",
   "execution_count": null,
   "metadata": {},
   "outputs": [],
   "source": []
  },
  {
   "cell_type": "code",
   "execution_count": null,
   "metadata": {},
   "outputs": [],
   "source": []
  },
  {
   "cell_type": "code",
   "execution_count": null,
   "metadata": {},
   "outputs": [],
   "source": []
  },
  {
   "cell_type": "code",
   "execution_count": null,
   "metadata": {},
   "outputs": [],
   "source": []
  },
  {
   "cell_type": "code",
   "execution_count": null,
   "metadata": {},
   "outputs": [],
   "source": []
  },
  {
   "cell_type": "code",
   "execution_count": null,
   "metadata": {},
   "outputs": [],
   "source": []
  },
  {
   "cell_type": "code",
   "execution_count": null,
   "metadata": {},
   "outputs": [],
   "source": []
  },
  {
   "cell_type": "code",
   "execution_count": null,
   "metadata": {},
   "outputs": [],
   "source": []
  },
  {
   "cell_type": "code",
   "execution_count": null,
   "metadata": {},
   "outputs": [],
   "source": []
  }
 ],
 "metadata": {
  "kernelspec": {
   "display_name": "Python 3",
   "language": "python",
   "name": "python3"
  },
  "language_info": {
   "codemirror_mode": {
    "name": "ipython",
    "version": 3
   },
   "file_extension": ".py",
   "mimetype": "text/x-python",
   "name": "python",
   "nbconvert_exporter": "python",
   "pygments_lexer": "ipython3",
   "version": "3.7.6"
  }
 },
 "nbformat": 4,
 "nbformat_minor": 4
}
