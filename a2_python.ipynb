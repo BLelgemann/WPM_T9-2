{
 "cells": [
  {
   "cell_type": "markdown",
   "metadata": {},
   "source": [
    "# Aufgabe 2: Python Script erstellen\n",
    "\n",
    "#### Autorin: Britta Lelgemann"
   ]
  },
  {
   "cell_type": "markdown",
   "metadata": {},
   "source": [
    "### Vorbereitung der Datenanalyse"
   ]
  },
  {
   "cell_type": "code",
   "execution_count": 76,
   "metadata": {},
   "outputs": [],
   "source": [
    "# Import des Packages \"urllib\" und des Moduls \"request\": \n",
    "import urllib.request\n",
    "# Import von Pandas und Festlegung eines Alias: \n",
    "import pandas as pd \n",
    "# Import des Packages \"matplotlib\" und des Moduls \"pyplot\"\n",
    "import matplotlib.pyplot as plt"
   ]
  },
  {
   "cell_type": "code",
   "execution_count": 90,
   "metadata": {},
   "outputs": [],
   "source": [
    "# Angabe der URls, wo die Daten zu finden sind: \n",
    "url_2019 = \"https://data.seattle.gov/resource/tmmm-ytt6.csv?$where=checkoutyear=2019&$limit=10000\"\n",
    "url_2020 = \"https://data.seattle.gov/resource/tmmm-ytt6.csv?$where=checkoutyear=2020&$limit=10000\" \n",
    "# Erstellen von Dateien, in die die Daten gespeichert werden sollen & Festlegung von Variablen:\n",
    "checkouts_file_2019 = \"checkouts2019.csv\"\n",
    "checkouts_file_2020 = \"checkouts2020.csv\""
   ]
  },
  {
   "cell_type": "code",
   "execution_count": 92,
   "metadata": {},
   "outputs": [
    {
     "data": {
      "text/plain": [
       "('checkouts2019.csv', <http.client.HTTPMessage at 0x24af45040c8>)"
      ]
     },
     "execution_count": 92,
     "metadata": {},
     "output_type": "execute_result"
    }
   ],
   "source": [
    "# Download der Daten mit der Funktion \"urlretrieve\" aus der urllib-library und dem Modul \"request\":\n",
    "urllib.request.urlretrieve(url_2019, checkouts_file_2019)"
   ]
  },
  {
   "cell_type": "code",
   "execution_count": 93,
   "metadata": {},
   "outputs": [
    {
     "data": {
      "text/plain": [
       "('checkouts2020.csv', <http.client.HTTPMessage at 0x24af4504b48>)"
      ]
     },
     "execution_count": 93,
     "metadata": {},
     "output_type": "execute_result"
    }
   ],
   "source": [
    "urllib.request.urlretrieve(url_2020, checkouts_file_2020)"
   ]
  },
  {
   "cell_type": "code",
   "execution_count": 96,
   "metadata": {
    "scrolled": true
   },
   "outputs": [],
   "source": [
    "# Die Daten mit Pandas ausgeben und diesen Befehl in einer Variablen ablegen:\n",
    "checkouts_2019 = pd.read_csv(checkouts_file_2019)\n",
    "checkouts_2020 = pd.read_csv(checkouts_file_2020)"
   ]
  },
  {
   "cell_type": "code",
   "execution_count": 80,
   "metadata": {},
   "outputs": [
    {
     "data": {
      "text/html": [
       "<div>\n",
       "<style scoped>\n",
       "    .dataframe tbody tr th:only-of-type {\n",
       "        vertical-align: middle;\n",
       "    }\n",
       "\n",
       "    .dataframe tbody tr th {\n",
       "        vertical-align: top;\n",
       "    }\n",
       "\n",
       "    .dataframe thead th {\n",
       "        text-align: right;\n",
       "    }\n",
       "</style>\n",
       "<table border=\"1\" class=\"dataframe\">\n",
       "  <thead>\n",
       "    <tr style=\"text-align: right;\">\n",
       "      <th></th>\n",
       "      <th>usageclass</th>\n",
       "      <th>checkouttype</th>\n",
       "      <th>materialtype</th>\n",
       "      <th>checkoutyear</th>\n",
       "      <th>checkoutmonth</th>\n",
       "      <th>checkouts</th>\n",
       "      <th>title</th>\n",
       "      <th>creator</th>\n",
       "      <th>subjects</th>\n",
       "      <th>publisher</th>\n",
       "      <th>publicationyear</th>\n",
       "    </tr>\n",
       "  </thead>\n",
       "  <tbody>\n",
       "    <tr>\n",
       "      <th>0</th>\n",
       "      <td>Digital</td>\n",
       "      <td>OverDrive</td>\n",
       "      <td>AUDIOBOOK</td>\n",
       "      <td>2019</td>\n",
       "      <td>12</td>\n",
       "      <td>2</td>\n",
       "      <td>The Teenage Brain (Enchanced): A Neuroscientis...</td>\n",
       "      <td>Frances E. Jensen</td>\n",
       "      <td>Nonfiction, Psychology</td>\n",
       "      <td>HarperCollins Publishers Inc.</td>\n",
       "      <td>2015</td>\n",
       "    </tr>\n",
       "    <tr>\n",
       "      <th>1</th>\n",
       "      <td>Physical</td>\n",
       "      <td>Horizon</td>\n",
       "      <td>BOOK</td>\n",
       "      <td>2019</td>\n",
       "      <td>12</td>\n",
       "      <td>3</td>\n",
       "      <td>Richard Scarry's Smokey the fireman.</td>\n",
       "      <td>Scarry, Richard</td>\n",
       "      <td>Fire fighters Juvenile fiction, Animals Juveni...</td>\n",
       "      <td>Random House,</td>\n",
       "      <td>2015.</td>\n",
       "    </tr>\n",
       "    <tr>\n",
       "      <th>2</th>\n",
       "      <td>Physical</td>\n",
       "      <td>Horizon</td>\n",
       "      <td>BOOK</td>\n",
       "      <td>2019</td>\n",
       "      <td>12</td>\n",
       "      <td>1</td>\n",
       "      <td>Vernon Subutex : roman. Tome 1 / Virginie Desp...</td>\n",
       "      <td>Despentes, Virginie, 1969-</td>\n",
       "      <td>Music stores France Paris Fiction, Businessmen...</td>\n",
       "      <td>Grasset : Les Éditions Graset &amp; Fasquelle : Li...</td>\n",
       "      <td>janvier 2018.</td>\n",
       "    </tr>\n",
       "    <tr>\n",
       "      <th>3</th>\n",
       "      <td>Physical</td>\n",
       "      <td>Horizon</td>\n",
       "      <td>BOOK</td>\n",
       "      <td>2019</td>\n",
       "      <td>12</td>\n",
       "      <td>1</td>\n",
       "      <td>The lost Gospel of Mary : the Mother of Jesus ...</td>\n",
       "      <td>NaN</td>\n",
       "      <td>Mary Blessed Virgin Saint</td>\n",
       "      <td>Paraclete Press,</td>\n",
       "      <td>[2007]</td>\n",
       "    </tr>\n",
       "    <tr>\n",
       "      <th>4</th>\n",
       "      <td>Digital</td>\n",
       "      <td>OverDrive</td>\n",
       "      <td>EBOOK</td>\n",
       "      <td>2019</td>\n",
       "      <td>12</td>\n",
       "      <td>2</td>\n",
       "      <td>Be Mine Forever: Bennetts Series, Book 3</td>\n",
       "      <td>Kennedy Ryan</td>\n",
       "      <td>Fiction, Literature, Romance</td>\n",
       "      <td>Hachette Digital, Inc.</td>\n",
       "      <td>2015</td>\n",
       "    </tr>\n",
       "    <tr>\n",
       "      <th>...</th>\n",
       "      <td>...</td>\n",
       "      <td>...</td>\n",
       "      <td>...</td>\n",
       "      <td>...</td>\n",
       "      <td>...</td>\n",
       "      <td>...</td>\n",
       "      <td>...</td>\n",
       "      <td>...</td>\n",
       "      <td>...</td>\n",
       "      <td>...</td>\n",
       "      <td>...</td>\n",
       "    </tr>\n",
       "    <tr>\n",
       "      <th>9995</th>\n",
       "      <td>Physical</td>\n",
       "      <td>Horizon</td>\n",
       "      <td>BOOK</td>\n",
       "      <td>2019</td>\n",
       "      <td>12</td>\n",
       "      <td>1</td>\n",
       "      <td>Artemisia Gentileschi : the image of the femal...</td>\n",
       "      <td>Garrard, Mary D.</td>\n",
       "      <td>Gentileschi Artemisia 1593 1652 or 1653 Critic...</td>\n",
       "      <td>Princeton University Press,</td>\n",
       "      <td>[1989]</td>\n",
       "    </tr>\n",
       "    <tr>\n",
       "      <th>9996</th>\n",
       "      <td>Digital</td>\n",
       "      <td>OverDrive</td>\n",
       "      <td>EBOOK</td>\n",
       "      <td>2019</td>\n",
       "      <td>12</td>\n",
       "      <td>1</td>\n",
       "      <td>Birth of an Empire: Genghis Series, Book 1</td>\n",
       "      <td>Conn Iggulden</td>\n",
       "      <td>Fiction, Historical Fiction</td>\n",
       "      <td>Random House, Inc.</td>\n",
       "      <td>2010</td>\n",
       "    </tr>\n",
       "    <tr>\n",
       "      <th>9997</th>\n",
       "      <td>Digital</td>\n",
       "      <td>OverDrive</td>\n",
       "      <td>EBOOK</td>\n",
       "      <td>2019</td>\n",
       "      <td>12</td>\n",
       "      <td>1</td>\n",
       "      <td>An Affair Without End: Willowmere Series, Book 3</td>\n",
       "      <td>Candace Camp</td>\n",
       "      <td>Fiction, Historical Fiction, Romance</td>\n",
       "      <td>Simon &amp; Schuster, Inc.</td>\n",
       "      <td>2014</td>\n",
       "    </tr>\n",
       "    <tr>\n",
       "      <th>9998</th>\n",
       "      <td>Physical</td>\n",
       "      <td>Horizon</td>\n",
       "      <td>BOOK</td>\n",
       "      <td>2019</td>\n",
       "      <td>12</td>\n",
       "      <td>1</td>\n",
       "      <td>The vine basket / Josanne La Valley.</td>\n",
       "      <td>La Valley, Josanne</td>\n",
       "      <td>Basket making Juvenile fiction, Fathers and da...</td>\n",
       "      <td>Clarion Books, Houghton Mifflin Harcourt,</td>\n",
       "      <td>[2013]</td>\n",
       "    </tr>\n",
       "    <tr>\n",
       "      <th>9999</th>\n",
       "      <td>Physical</td>\n",
       "      <td>Horizon</td>\n",
       "      <td>VIDEODISC</td>\n",
       "      <td>2019</td>\n",
       "      <td>12</td>\n",
       "      <td>1</td>\n",
       "      <td>Gleason / Amazon Studios ; in association with...</td>\n",
       "      <td>NaN</td>\n",
       "      <td>Gleason Steve 1977, Football players Biography...</td>\n",
       "      <td>Sony Pictures Home Entertainment,</td>\n",
       "      <td>c2016.</td>\n",
       "    </tr>\n",
       "  </tbody>\n",
       "</table>\n",
       "<p>10000 rows × 11 columns</p>\n",
       "</div>"
      ],
      "text/plain": [
       "     usageclass checkouttype materialtype  checkoutyear  checkoutmonth  \\\n",
       "0       Digital    OverDrive    AUDIOBOOK          2019             12   \n",
       "1      Physical      Horizon         BOOK          2019             12   \n",
       "2      Physical      Horizon         BOOK          2019             12   \n",
       "3      Physical      Horizon         BOOK          2019             12   \n",
       "4       Digital    OverDrive        EBOOK          2019             12   \n",
       "...         ...          ...          ...           ...            ...   \n",
       "9995   Physical      Horizon         BOOK          2019             12   \n",
       "9996    Digital    OverDrive        EBOOK          2019             12   \n",
       "9997    Digital    OverDrive        EBOOK          2019             12   \n",
       "9998   Physical      Horizon         BOOK          2019             12   \n",
       "9999   Physical      Horizon    VIDEODISC          2019             12   \n",
       "\n",
       "      checkouts                                              title  \\\n",
       "0             2  The Teenage Brain (Enchanced): A Neuroscientis...   \n",
       "1             3               Richard Scarry's Smokey the fireman.   \n",
       "2             1  Vernon Subutex : roman. Tome 1 / Virginie Desp...   \n",
       "3             1  The lost Gospel of Mary : the Mother of Jesus ...   \n",
       "4             2           Be Mine Forever: Bennetts Series, Book 3   \n",
       "...         ...                                                ...   \n",
       "9995          1  Artemisia Gentileschi : the image of the femal...   \n",
       "9996          1         Birth of an Empire: Genghis Series, Book 1   \n",
       "9997          1   An Affair Without End: Willowmere Series, Book 3   \n",
       "9998          1               The vine basket / Josanne La Valley.   \n",
       "9999          1  Gleason / Amazon Studios ; in association with...   \n",
       "\n",
       "                         creator  \\\n",
       "0              Frances E. Jensen   \n",
       "1                Scarry, Richard   \n",
       "2     Despentes, Virginie, 1969-   \n",
       "3                            NaN   \n",
       "4                   Kennedy Ryan   \n",
       "...                          ...   \n",
       "9995            Garrard, Mary D.   \n",
       "9996               Conn Iggulden   \n",
       "9997                Candace Camp   \n",
       "9998          La Valley, Josanne   \n",
       "9999                         NaN   \n",
       "\n",
       "                                               subjects  \\\n",
       "0                                Nonfiction, Psychology   \n",
       "1     Fire fighters Juvenile fiction, Animals Juveni...   \n",
       "2     Music stores France Paris Fiction, Businessmen...   \n",
       "3                             Mary Blessed Virgin Saint   \n",
       "4                          Fiction, Literature, Romance   \n",
       "...                                                 ...   \n",
       "9995  Gentileschi Artemisia 1593 1652 or 1653 Critic...   \n",
       "9996                        Fiction, Historical Fiction   \n",
       "9997               Fiction, Historical Fiction, Romance   \n",
       "9998  Basket making Juvenile fiction, Fathers and da...   \n",
       "9999  Gleason Steve 1977, Football players Biography...   \n",
       "\n",
       "                                              publisher publicationyear  \n",
       "0                         HarperCollins Publishers Inc.            2015  \n",
       "1                                         Random House,           2015.  \n",
       "2     Grasset : Les Éditions Graset & Fasquelle : Li...   janvier 2018.  \n",
       "3                                      Paraclete Press,          [2007]  \n",
       "4                                Hachette Digital, Inc.            2015  \n",
       "...                                                 ...             ...  \n",
       "9995                        Princeton University Press,          [1989]  \n",
       "9996                                 Random House, Inc.            2010  \n",
       "9997                             Simon & Schuster, Inc.            2014  \n",
       "9998          Clarion Books, Houghton Mifflin Harcourt,          [2013]  \n",
       "9999                  Sony Pictures Home Entertainment,          c2016.  \n",
       "\n",
       "[10000 rows x 11 columns]"
      ]
     },
     "execution_count": 80,
     "metadata": {},
     "output_type": "execute_result"
    }
   ],
   "source": [
    "# Anzeigen lassen:\n",
    "checkouts_2019"
   ]
  },
  {
   "cell_type": "code",
   "execution_count": null,
   "metadata": {},
   "outputs": [],
   "source": []
  },
  {
   "cell_type": "markdown",
   "metadata": {},
   "source": [
    "### Frage 1: Wieviele E-Books wurden im Jahr 2019 im Vergleich zu physischen Büchern ausgeliehen? \n"
   ]
  },
  {
   "cell_type": "code",
   "execution_count": 81,
   "metadata": {},
   "outputs": [
    {
     "data": {
      "text/plain": [
       "Index(['usageclass', 'checkouttype', 'materialtype', 'checkoutyear',\n",
       "       'checkoutmonth', 'checkouts', 'title', 'creator', 'subjects',\n",
       "       'publisher', 'publicationyear'],\n",
       "      dtype='object')"
      ]
     },
     "execution_count": 81,
     "metadata": {},
     "output_type": "execute_result"
    }
   ],
   "source": [
    "# Spalten anzeigen lassen, um eine Übersicht zu bekommen:\n",
    "checkouts_2019.columns"
   ]
  },
  {
   "cell_type": "code",
   "execution_count": 82,
   "metadata": {},
   "outputs": [
    {
     "data": {
      "text/html": [
       "<div>\n",
       "<style scoped>\n",
       "    .dataframe tbody tr th:only-of-type {\n",
       "        vertical-align: middle;\n",
       "    }\n",
       "\n",
       "    .dataframe tbody tr th {\n",
       "        vertical-align: top;\n",
       "    }\n",
       "\n",
       "    .dataframe thead th {\n",
       "        text-align: right;\n",
       "    }\n",
       "</style>\n",
       "<table border=\"1\" class=\"dataframe\">\n",
       "  <thead>\n",
       "    <tr style=\"text-align: right;\">\n",
       "      <th></th>\n",
       "      <th>usageclass</th>\n",
       "      <th>checkouttype</th>\n",
       "      <th>materialtype</th>\n",
       "      <th>checkoutyear</th>\n",
       "      <th>checkoutmonth</th>\n",
       "      <th>checkouts</th>\n",
       "      <th>title</th>\n",
       "      <th>creator</th>\n",
       "      <th>subjects</th>\n",
       "      <th>publisher</th>\n",
       "      <th>publicationyear</th>\n",
       "    </tr>\n",
       "  </thead>\n",
       "  <tbody>\n",
       "    <tr>\n",
       "      <th>0</th>\n",
       "      <td>Digital</td>\n",
       "      <td>OverDrive</td>\n",
       "      <td>AUDIOBOOK</td>\n",
       "      <td>2019</td>\n",
       "      <td>12</td>\n",
       "      <td>2</td>\n",
       "      <td>The Teenage Brain (Enchanced): A Neuroscientis...</td>\n",
       "      <td>Frances E. Jensen</td>\n",
       "      <td>Nonfiction, Psychology</td>\n",
       "      <td>HarperCollins Publishers Inc.</td>\n",
       "      <td>2015</td>\n",
       "    </tr>\n",
       "    <tr>\n",
       "      <th>1</th>\n",
       "      <td>Physical</td>\n",
       "      <td>Horizon</td>\n",
       "      <td>BOOK</td>\n",
       "      <td>2019</td>\n",
       "      <td>12</td>\n",
       "      <td>3</td>\n",
       "      <td>Richard Scarry's Smokey the fireman.</td>\n",
       "      <td>Scarry, Richard</td>\n",
       "      <td>Fire fighters Juvenile fiction, Animals Juveni...</td>\n",
       "      <td>Random House,</td>\n",
       "      <td>2015.</td>\n",
       "    </tr>\n",
       "  </tbody>\n",
       "</table>\n",
       "</div>"
      ],
      "text/plain": [
       "  usageclass checkouttype materialtype  checkoutyear  checkoutmonth  \\\n",
       "0    Digital    OverDrive    AUDIOBOOK          2019             12   \n",
       "1   Physical      Horizon         BOOK          2019             12   \n",
       "\n",
       "   checkouts                                              title  \\\n",
       "0          2  The Teenage Brain (Enchanced): A Neuroscientis...   \n",
       "1          3               Richard Scarry's Smokey the fireman.   \n",
       "\n",
       "             creator                                           subjects  \\\n",
       "0  Frances E. Jensen                             Nonfiction, Psychology   \n",
       "1    Scarry, Richard  Fire fighters Juvenile fiction, Animals Juveni...   \n",
       "\n",
       "                       publisher publicationyear  \n",
       "0  HarperCollins Publishers Inc.            2015  \n",
       "1                  Random House,           2015.  "
      ]
     },
     "execution_count": 82,
     "metadata": {},
     "output_type": "execute_result"
    }
   ],
   "source": [
    "# Anzeige der ersten zwei Zeilen der Liste:\n",
    "checkouts_2019.head(2)"
   ]
  },
  {
   "cell_type": "code",
   "execution_count": 83,
   "metadata": {},
   "outputs": [
    {
     "data": {
      "text/plain": [
       "usageclass         object\n",
       "checkouttype       object\n",
       "materialtype       object\n",
       "checkoutyear        int64\n",
       "checkoutmonth       int64\n",
       "checkouts           int64\n",
       "title              object\n",
       "creator            object\n",
       "subjects           object\n",
       "publisher          object\n",
       "publicationyear    object\n",
       "dtype: object"
      ]
     },
     "execution_count": 83,
     "metadata": {},
     "output_type": "execute_result"
    }
   ],
   "source": [
    "# Datentypen anzeigen lassen:\n",
    "checkouts_2019.dtypes"
   ]
  },
  {
   "cell_type": "code",
   "execution_count": 84,
   "metadata": {},
   "outputs": [
    {
     "data": {
      "text/plain": [
       "BOOK                              4416\n",
       "EBOOK                             2749\n",
       "AUDIOBOOK                         1133\n",
       "VIDEODISC                          883\n",
       "SOUNDDISC                          746\n",
       "REGPRINT                            23\n",
       "MUSIC                               15\n",
       "VIDEO                                9\n",
       "SOUNDDISC, VIDEODISC                 9\n",
       "LARGEPRINT                           4\n",
       "ER                                   4\n",
       "ER, SOUNDDISC                        3\n",
       "MUSICSNDREC                          1\n",
       "VISUAL                               1\n",
       "SOUNDREC                             1\n",
       "SOUNDCASS, SOUNDDISC, SOUNDREC       1\n",
       "CR                                   1\n",
       "ATLAS                                1\n",
       "Name: materialtype, dtype: int64"
      ]
     },
     "execution_count": 84,
     "metadata": {},
     "output_type": "execute_result"
    }
   ],
   "source": [
    "# Mithilfe der Funktion \"value_counts\" zählen, wieviel von dem jeweiligen Materialtyp ausgeliehen wurde:\n",
    "checkouts_2019.materialtype.value_counts()"
   ]
  },
  {
   "cell_type": "code",
   "execution_count": 85,
   "metadata": {},
   "outputs": [
    {
     "name": "stdout",
     "output_type": "stream",
     "text": [
      "Checkouts BOOKs: 4416\n",
      "Checkouts EBOOKs: 2749\n"
     ]
    }
   ],
   "source": [
    "# Ich filtere die Ergebnisse und lege sie jeweils in einer Variable ab:\n",
    "BOOKs = checkouts_2019.loc[checkouts_2019['materialtype'] == 'BOOK'].count()[0]\n",
    "EBOOKs = checkouts_2019.loc[checkouts_2019['materialtype'] == 'EBOOK'].count()[0]\n",
    "\n",
    "# Dann lasse ich die gefilterten Ergbnisse ausgeben:\n",
    "print('Checkouts BOOKs:', BOOKs)\n",
    "print('Checkouts EBOOKs:', EBOOKs)"
   ]
  },
  {
   "cell_type": "markdown",
   "metadata": {},
   "source": [
    "#### Antwort: Es wurden insgesamt  4421 Bücher ausgeliehen und 2747 E-Books."
   ]
  },
  {
   "cell_type": "markdown",
   "metadata": {},
   "source": [
    "### Frage 2: Wieviele digitale Medien wurden insgesamt im Jahr 2019 im Vergleich zu physischen Medien ausgeliehen? "
   ]
  },
  {
   "cell_type": "code",
   "execution_count": 86,
   "metadata": {},
   "outputs": [
    {
     "data": {
      "text/html": [
       "<div>\n",
       "<style scoped>\n",
       "    .dataframe tbody tr th:only-of-type {\n",
       "        vertical-align: middle;\n",
       "    }\n",
       "\n",
       "    .dataframe tbody tr th {\n",
       "        vertical-align: top;\n",
       "    }\n",
       "\n",
       "    .dataframe thead th {\n",
       "        text-align: right;\n",
       "    }\n",
       "</style>\n",
       "<table border=\"1\" class=\"dataframe\">\n",
       "  <thead>\n",
       "    <tr style=\"text-align: right;\">\n",
       "      <th></th>\n",
       "      <th>usageclass</th>\n",
       "      <th>materialtype</th>\n",
       "    </tr>\n",
       "  </thead>\n",
       "  <tbody>\n",
       "    <tr>\n",
       "      <th>0</th>\n",
       "      <td>Digital</td>\n",
       "      <td>AUDIOBOOK</td>\n",
       "    </tr>\n",
       "    <tr>\n",
       "      <th>1</th>\n",
       "      <td>Physical</td>\n",
       "      <td>BOOK</td>\n",
       "    </tr>\n",
       "    <tr>\n",
       "      <th>2</th>\n",
       "      <td>Physical</td>\n",
       "      <td>BOOK</td>\n",
       "    </tr>\n",
       "    <tr>\n",
       "      <th>3</th>\n",
       "      <td>Physical</td>\n",
       "      <td>BOOK</td>\n",
       "    </tr>\n",
       "    <tr>\n",
       "      <th>4</th>\n",
       "      <td>Digital</td>\n",
       "      <td>EBOOK</td>\n",
       "    </tr>\n",
       "    <tr>\n",
       "      <th>...</th>\n",
       "      <td>...</td>\n",
       "      <td>...</td>\n",
       "    </tr>\n",
       "    <tr>\n",
       "      <th>9995</th>\n",
       "      <td>Physical</td>\n",
       "      <td>BOOK</td>\n",
       "    </tr>\n",
       "    <tr>\n",
       "      <th>9996</th>\n",
       "      <td>Digital</td>\n",
       "      <td>EBOOK</td>\n",
       "    </tr>\n",
       "    <tr>\n",
       "      <th>9997</th>\n",
       "      <td>Digital</td>\n",
       "      <td>EBOOK</td>\n",
       "    </tr>\n",
       "    <tr>\n",
       "      <th>9998</th>\n",
       "      <td>Physical</td>\n",
       "      <td>BOOK</td>\n",
       "    </tr>\n",
       "    <tr>\n",
       "      <th>9999</th>\n",
       "      <td>Physical</td>\n",
       "      <td>VIDEODISC</td>\n",
       "    </tr>\n",
       "  </tbody>\n",
       "</table>\n",
       "<p>10000 rows × 2 columns</p>\n",
       "</div>"
      ],
      "text/plain": [
       "     usageclass materialtype\n",
       "0       Digital    AUDIOBOOK\n",
       "1      Physical         BOOK\n",
       "2      Physical         BOOK\n",
       "3      Physical         BOOK\n",
       "4       Digital        EBOOK\n",
       "...         ...          ...\n",
       "9995   Physical         BOOK\n",
       "9996    Digital        EBOOK\n",
       "9997    Digital        EBOOK\n",
       "9998   Physical         BOOK\n",
       "9999   Physical    VIDEODISC\n",
       "\n",
       "[10000 rows x 2 columns]"
      ]
     },
     "execution_count": 86,
     "metadata": {},
     "output_type": "execute_result"
    }
   ],
   "source": [
    "# Zur Erinnerung: die Materialtypen haben unterschieliche \"usageclasses\", d.h. sie sind \"Digital\" oder \"Physical\":\n",
    "checkouts_2019[['usageclass', 'materialtype']]"
   ]
  },
  {
   "cell_type": "code",
   "execution_count": 88,
   "metadata": {},
   "outputs": [
    {
     "data": {
      "image/png": "[encoded data removed]",
      "text/plain": [
       "<Figure size 432x288 with 1 Axes>"
      ]
     },
     "metadata": {},
     "output_type": "display_data"
    }
   ],
   "source": [
    "# Ich stelle nun den Prozentsatz der physischen im Vergleich zu den digitalen Ausleihen in einem Kuchendiagramm dar:\n",
    "\n",
    "items = ['physische Medien', 'digitale Medien']\n",
    "plt.pie([Physical, Digital], labels = items, autopct='%.2f')\n",
    "plt.show()"
   ]
  },
  {
   "cell_type": "markdown",
   "metadata": {},
   "source": [
    "#### Antwort: 38,94 % der ausgeliehenen Medien waren digital."
   ]
  },
  {
   "cell_type": "code",
   "execution_count": null,
   "metadata": {},
   "outputs": [],
   "source": []
  },
  {
   "cell_type": "code",
   "execution_count": null,
   "metadata": {},
   "outputs": [],
   "source": []
  },
  {
   "cell_type": "code",
   "execution_count": null,
   "metadata": {},
   "outputs": [],
   "source": []
  },
  {
   "cell_type": "code",
   "execution_count": null,
   "metadata": {},
   "outputs": [],
   "source": []
  },
  {
   "cell_type": "code",
   "execution_count": null,
   "metadata": {},
   "outputs": [],
   "source": []
  },
  {
   "cell_type": "code",
   "execution_count": null,
   "metadata": {},
   "outputs": [],
   "source": []
  },
  {
   "cell_type": "code",
   "execution_count": null,
   "metadata": {},
   "outputs": [],
   "source": []
  },
  {
   "cell_type": "code",
   "execution_count": null,
   "metadata": {},
   "outputs": [],
   "source": []
  },
  {
   "cell_type": "code",
   "execution_count": null,
   "metadata": {},
   "outputs": [],
   "source": []
  },
  {
   "cell_type": "code",
   "execution_count": null,
   "metadata": {},
   "outputs": [],
   "source": []
  },
  {
   "cell_type": "code",
   "execution_count": null,
   "metadata": {},
   "outputs": [],
   "source": []
  },
  {
   "cell_type": "code",
   "execution_count": null,
   "metadata": {},
   "outputs": [],
   "source": []
  },
  {
   "cell_type": "code",
   "execution_count": null,
   "metadata": {},
   "outputs": [],
   "source": []
  },
  {
   "cell_type": "code",
   "execution_count": null,
   "metadata": {},
   "outputs": [],
   "source": []
  },
  {
   "cell_type": "code",
   "execution_count": null,
   "metadata": {},
   "outputs": [],
   "source": []
  },
  {
   "cell_type": "code",
   "execution_count": null,
   "metadata": {},
   "outputs": [],
   "source": []
  }
 ],
 "metadata": {
  "kernelspec": {
   "display_name": "Python 3",
   "language": "python",
   "name": "python3"
  },
  "language_info": {
   "codemirror_mode": {
    "name": "ipython",
    "version": 3
   },
   "file_extension": ".py",
   "mimetype": "text/x-python",
   "name": "python",
   "nbconvert_exporter": "python",
   "pygments_lexer": "ipython3",
   "version": "3.7.6"
  }
 },
 "nbformat": 4,
 "nbformat_minor": 4
}
