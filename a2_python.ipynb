{
 "cells": [
  {
   "cell_type": "markdown",
   "metadata": {},
   "source": [
    "# Aufgabe 2: Python Script erstellen\n",
    "\n",
    "#### Autorin: Britta Lelgemann"
   ]
  },
  {
   "cell_type": "markdown",
   "metadata": {},
   "source": [
    "### Vorbereitung der Datenanalyse"
   ]
  },
  {
   "cell_type": "code",
   "execution_count": 6,
   "metadata": {},
   "outputs": [],
   "source": [
    "# Import des packages \"urllib\" und des Moduls \"request\": \n",
    "import urllib.request\n",
    "# Import von Pandas und Festlegung eines Alias: \n",
    "import pandas as pd \n",
    "# Befehl an jupyternotebook, dass Grafiken angezeigt werden sollen:\n",
    "%matplotlib inline"
   ]
  },
  {
   "cell_type": "code",
   "execution_count": 7,
   "metadata": {},
   "outputs": [],
   "source": [
    "# Angabe der URls, wo die Daten zu finden sind: \n",
    "url_2019 = \"https://data.seattle.gov/resource/tmmm-ytt6.csv?$where=checkoutyear=2019&$limit=10000\"\n",
    "url_2020 = \"https://data.seattle.gov/resource/tmmm-ytt6.csv?$where=checkoutyear=2020&$limit=10000\"\n",
    "# Erstellen von Dateien, in die die Daten gespeichert werden sollen & Festlegung von Variablen:\n",
    "checkouts_file_2019 = \"checkouts2019.csv\"\n",
    "checkouts_file_2020 = \"checkouts2020.csv\""
   ]
  },
  {
   "cell_type": "code",
   "execution_count": 8,
   "metadata": {},
   "outputs": [
    {
     "data": {
      "text/plain": [
       "'checkouts2019.csv'"
      ]
     },
     "execution_count": 8,
     "metadata": {},
     "output_type": "execute_result"
    }
   ],
   "source": [
    "# Testen ob Dateien stimmen:\n",
    "checkouts_file_2019 "
   ]
  },
  {
   "cell_type": "code",
   "execution_count": 9,
   "metadata": {},
   "outputs": [
    {
     "data": {
      "text/plain": [
       "'checkouts2020.csv'"
      ]
     },
     "execution_count": 9,
     "metadata": {},
     "output_type": "execute_result"
    }
   ],
   "source": [
    "checkouts_file_2020"
   ]
  },
  {
   "cell_type": "code",
   "execution_count": 10,
   "metadata": {},
   "outputs": [
    {
     "data": {
      "text/plain": [
       "'https://data.seattle.gov/resource/tmmm-ytt6.csv?$where=checkoutyear=2019&$limit=10000'"
      ]
     },
     "execution_count": 10,
     "metadata": {},
     "output_type": "execute_result"
    }
   ],
   "source": [
    "# Testen, ob URLs stimmen:\n",
    "url_2019"
   ]
  },
  {
   "cell_type": "code",
   "execution_count": 11,
   "metadata": {},
   "outputs": [
    {
     "data": {
      "text/plain": [
       "'https://data.seattle.gov/resource/tmmm-ytt6.csv?$where=checkoutyear=2020&$limit=10000'"
      ]
     },
     "execution_count": 11,
     "metadata": {},
     "output_type": "execute_result"
    }
   ],
   "source": [
    "url_2020"
   ]
  },
  {
   "cell_type": "code",
   "execution_count": 12,
   "metadata": {},
   "outputs": [
    {
     "data": {
      "text/plain": [
       "('checkouts2019.csv', <http.client.HTTPMessage at 0x269934737c8>)"
      ]
     },
     "execution_count": 12,
     "metadata": {},
     "output_type": "execute_result"
    }
   ],
   "source": [
    "# Download der Daten mit der Funktion \"urlretrieve\" aus der urllib-library und dem Modul \"request\":\n",
    "urllib.request.urlretrieve(url_2019, checkouts_file_2019)\n",
    "# -> in der Klammer stehen die Positionsargumente"
   ]
  },
  {
   "cell_type": "code",
   "execution_count": 13,
   "metadata": {},
   "outputs": [
    {
     "data": {
      "text/plain": [
       "('checkouts2020.csv', <http.client.HTTPMessage at 0x2698f6a6788>)"
      ]
     },
     "execution_count": 13,
     "metadata": {},
     "output_type": "execute_result"
    }
   ],
   "source": [
    "urllib.request.urlretrieve(url_2020, checkouts_file_2020)"
   ]
  },
  {
   "cell_type": "code",
   "execution_count": 57,
   "metadata": {
    "scrolled": true
   },
   "outputs": [
    {
     "data": {
      "text/html": [
       "<div>\n",
       "<style scoped>\n",
       "    .dataframe tbody tr th:only-of-type {\n",
       "        vertical-align: middle;\n",
       "    }\n",
       "\n",
       "    .dataframe tbody tr th {\n",
       "        vertical-align: top;\n",
       "    }\n",
       "\n",
       "    .dataframe thead th {\n",
       "        text-align: right;\n",
       "    }\n",
       "</style>\n",
       "<table border=\"1\" class=\"dataframe\">\n",
       "  <thead>\n",
       "    <tr style=\"text-align: right;\">\n",
       "      <th></th>\n",
       "      <th>checkouttype</th>\n",
       "      <th>materialtype</th>\n",
       "      <th>checkoutyear</th>\n",
       "      <th>checkoutmonth</th>\n",
       "      <th>checkouts</th>\n",
       "      <th>title</th>\n",
       "      <th>creator</th>\n",
       "      <th>subjects</th>\n",
       "      <th>publisher</th>\n",
       "      <th>publicationyear</th>\n",
       "    </tr>\n",
       "    <tr>\n",
       "      <th>usageclass</th>\n",
       "      <th></th>\n",
       "      <th></th>\n",
       "      <th></th>\n",
       "      <th></th>\n",
       "      <th></th>\n",
       "      <th></th>\n",
       "      <th></th>\n",
       "      <th></th>\n",
       "      <th></th>\n",
       "      <th></th>\n",
       "    </tr>\n",
       "  </thead>\n",
       "  <tbody>\n",
       "    <tr>\n",
       "      <th>Digital</th>\n",
       "      <td>OverDrive</td>\n",
       "      <td>AUDIOBOOK</td>\n",
       "      <td>2019</td>\n",
       "      <td>12</td>\n",
       "      <td>2</td>\n",
       "      <td>The Teenage Brain (Enchanced): A Neuroscientis...</td>\n",
       "      <td>Frances E. Jensen</td>\n",
       "      <td>Nonfiction, Psychology</td>\n",
       "      <td>HarperCollins Publishers Inc.</td>\n",
       "      <td>2015</td>\n",
       "    </tr>\n",
       "    <tr>\n",
       "      <th>Physical</th>\n",
       "      <td>Horizon</td>\n",
       "      <td>BOOK</td>\n",
       "      <td>2019</td>\n",
       "      <td>12</td>\n",
       "      <td>3</td>\n",
       "      <td>Richard Scarry's Smokey the fireman.</td>\n",
       "      <td>Scarry, Richard</td>\n",
       "      <td>Fire fighters Juvenile fiction, Animals Juveni...</td>\n",
       "      <td>Random House,</td>\n",
       "      <td>2015.</td>\n",
       "    </tr>\n",
       "    <tr>\n",
       "      <th>Physical</th>\n",
       "      <td>Horizon</td>\n",
       "      <td>BOOK</td>\n",
       "      <td>2019</td>\n",
       "      <td>12</td>\n",
       "      <td>1</td>\n",
       "      <td>Vernon Subutex : roman. Tome 1 / Virginie Desp...</td>\n",
       "      <td>Despentes, Virginie, 1969-</td>\n",
       "      <td>Music stores France Paris Fiction, Businessmen...</td>\n",
       "      <td>Grasset : Les Éditions Graset &amp; Fasquelle : Li...</td>\n",
       "      <td>janvier 2018.</td>\n",
       "    </tr>\n",
       "    <tr>\n",
       "      <th>Physical</th>\n",
       "      <td>Horizon</td>\n",
       "      <td>BOOK</td>\n",
       "      <td>2019</td>\n",
       "      <td>12</td>\n",
       "      <td>1</td>\n",
       "      <td>The lost Gospel of Mary : the Mother of Jesus ...</td>\n",
       "      <td>NaN</td>\n",
       "      <td>Mary Blessed Virgin Saint</td>\n",
       "      <td>Paraclete Press,</td>\n",
       "      <td>[2007]</td>\n",
       "    </tr>\n",
       "    <tr>\n",
       "      <th>Digital</th>\n",
       "      <td>OverDrive</td>\n",
       "      <td>EBOOK</td>\n",
       "      <td>2019</td>\n",
       "      <td>12</td>\n",
       "      <td>2</td>\n",
       "      <td>Be Mine Forever: Bennetts Series, Book 3</td>\n",
       "      <td>Kennedy Ryan</td>\n",
       "      <td>Fiction, Literature, Romance</td>\n",
       "      <td>Hachette Digital, Inc.</td>\n",
       "      <td>2015</td>\n",
       "    </tr>\n",
       "    <tr>\n",
       "      <th>...</th>\n",
       "      <td>...</td>\n",
       "      <td>...</td>\n",
       "      <td>...</td>\n",
       "      <td>...</td>\n",
       "      <td>...</td>\n",
       "      <td>...</td>\n",
       "      <td>...</td>\n",
       "      <td>...</td>\n",
       "      <td>...</td>\n",
       "      <td>...</td>\n",
       "    </tr>\n",
       "    <tr>\n",
       "      <th>Physical</th>\n",
       "      <td>Horizon</td>\n",
       "      <td>BOOK</td>\n",
       "      <td>2019</td>\n",
       "      <td>12</td>\n",
       "      <td>1</td>\n",
       "      <td>Artemisia Gentileschi : the image of the femal...</td>\n",
       "      <td>Garrard, Mary D.</td>\n",
       "      <td>Gentileschi Artemisia 1593 1652 or 1653 Critic...</td>\n",
       "      <td>Princeton University Press,</td>\n",
       "      <td>[1989]</td>\n",
       "    </tr>\n",
       "    <tr>\n",
       "      <th>Digital</th>\n",
       "      <td>OverDrive</td>\n",
       "      <td>EBOOK</td>\n",
       "      <td>2019</td>\n",
       "      <td>12</td>\n",
       "      <td>1</td>\n",
       "      <td>Birth of an Empire: Genghis Series, Book 1</td>\n",
       "      <td>Conn Iggulden</td>\n",
       "      <td>Fiction, Historical Fiction</td>\n",
       "      <td>Random House, Inc.</td>\n",
       "      <td>2010</td>\n",
       "    </tr>\n",
       "    <tr>\n",
       "      <th>Digital</th>\n",
       "      <td>OverDrive</td>\n",
       "      <td>EBOOK</td>\n",
       "      <td>2019</td>\n",
       "      <td>12</td>\n",
       "      <td>1</td>\n",
       "      <td>An Affair Without End: Willowmere Series, Book 3</td>\n",
       "      <td>Candace Camp</td>\n",
       "      <td>Fiction, Historical Fiction, Romance</td>\n",
       "      <td>Simon &amp; Schuster, Inc.</td>\n",
       "      <td>2014</td>\n",
       "    </tr>\n",
       "    <tr>\n",
       "      <th>Physical</th>\n",
       "      <td>Horizon</td>\n",
       "      <td>BOOK</td>\n",
       "      <td>2019</td>\n",
       "      <td>12</td>\n",
       "      <td>1</td>\n",
       "      <td>The vine basket / Josanne La Valley.</td>\n",
       "      <td>La Valley, Josanne</td>\n",
       "      <td>Basket making Juvenile fiction, Fathers and da...</td>\n",
       "      <td>Clarion Books, Houghton Mifflin Harcourt,</td>\n",
       "      <td>[2013]</td>\n",
       "    </tr>\n",
       "    <tr>\n",
       "      <th>Physical</th>\n",
       "      <td>Horizon</td>\n",
       "      <td>VIDEODISC</td>\n",
       "      <td>2019</td>\n",
       "      <td>12</td>\n",
       "      <td>1</td>\n",
       "      <td>Gleason / Amazon Studios ; in association with...</td>\n",
       "      <td>NaN</td>\n",
       "      <td>Gleason Steve 1977, Football players Biography...</td>\n",
       "      <td>Sony Pictures Home Entertainment,</td>\n",
       "      <td>c2016.</td>\n",
       "    </tr>\n",
       "  </tbody>\n",
       "</table>\n",
       "<p>10000 rows × 10 columns</p>\n",
       "</div>"
      ],
      "text/plain": [
       "           checkouttype materialtype  checkoutyear  checkoutmonth  checkouts  \\\n",
       "usageclass                                                                     \n",
       "Digital       OverDrive    AUDIOBOOK          2019             12          2   \n",
       "Physical        Horizon         BOOK          2019             12          3   \n",
       "Physical        Horizon         BOOK          2019             12          1   \n",
       "Physical        Horizon         BOOK          2019             12          1   \n",
       "Digital       OverDrive        EBOOK          2019             12          2   \n",
       "...                 ...          ...           ...            ...        ...   \n",
       "Physical        Horizon         BOOK          2019             12          1   \n",
       "Digital       OverDrive        EBOOK          2019             12          1   \n",
       "Digital       OverDrive        EBOOK          2019             12          1   \n",
       "Physical        Horizon         BOOK          2019             12          1   \n",
       "Physical        Horizon    VIDEODISC          2019             12          1   \n",
       "\n",
       "                                                        title  \\\n",
       "usageclass                                                      \n",
       "Digital     The Teenage Brain (Enchanced): A Neuroscientis...   \n",
       "Physical                 Richard Scarry's Smokey the fireman.   \n",
       "Physical    Vernon Subutex : roman. Tome 1 / Virginie Desp...   \n",
       "Physical    The lost Gospel of Mary : the Mother of Jesus ...   \n",
       "Digital              Be Mine Forever: Bennetts Series, Book 3   \n",
       "...                                                       ...   \n",
       "Physical    Artemisia Gentileschi : the image of the femal...   \n",
       "Digital            Birth of an Empire: Genghis Series, Book 1   \n",
       "Digital      An Affair Without End: Willowmere Series, Book 3   \n",
       "Physical                 The vine basket / Josanne La Valley.   \n",
       "Physical    Gleason / Amazon Studios ; in association with...   \n",
       "\n",
       "                               creator  \\\n",
       "usageclass                               \n",
       "Digital              Frances E. Jensen   \n",
       "Physical               Scarry, Richard   \n",
       "Physical    Despentes, Virginie, 1969-   \n",
       "Physical                           NaN   \n",
       "Digital                   Kennedy Ryan   \n",
       "...                                ...   \n",
       "Physical              Garrard, Mary D.   \n",
       "Digital                  Conn Iggulden   \n",
       "Digital                   Candace Camp   \n",
       "Physical            La Valley, Josanne   \n",
       "Physical                           NaN   \n",
       "\n",
       "                                                     subjects  \\\n",
       "usageclass                                                      \n",
       "Digital                                Nonfiction, Psychology   \n",
       "Physical    Fire fighters Juvenile fiction, Animals Juveni...   \n",
       "Physical    Music stores France Paris Fiction, Businessmen...   \n",
       "Physical                            Mary Blessed Virgin Saint   \n",
       "Digital                          Fiction, Literature, Romance   \n",
       "...                                                       ...   \n",
       "Physical    Gentileschi Artemisia 1593 1652 or 1653 Critic...   \n",
       "Digital                           Fiction, Historical Fiction   \n",
       "Digital                  Fiction, Historical Fiction, Romance   \n",
       "Physical    Basket making Juvenile fiction, Fathers and da...   \n",
       "Physical    Gleason Steve 1977, Football players Biography...   \n",
       "\n",
       "                                                    publisher publicationyear  \n",
       "usageclass                                                                     \n",
       "Digital                         HarperCollins Publishers Inc.            2015  \n",
       "Physical                                        Random House,           2015.  \n",
       "Physical    Grasset : Les Éditions Graset & Fasquelle : Li...   janvier 2018.  \n",
       "Physical                                     Paraclete Press,          [2007]  \n",
       "Digital                                Hachette Digital, Inc.            2015  \n",
       "...                                                       ...             ...  \n",
       "Physical                          Princeton University Press,          [1989]  \n",
       "Digital                                    Random House, Inc.            2010  \n",
       "Digital                                Simon & Schuster, Inc.            2014  \n",
       "Physical            Clarion Books, Houghton Mifflin Harcourt,          [2013]  \n",
       "Physical                    Sony Pictures Home Entertainment,          c2016.  \n",
       "\n",
       "[10000 rows x 10 columns]"
      ]
     },
     "execution_count": 57,
     "metadata": {},
     "output_type": "execute_result"
    }
   ],
   "source": [
    "# Die Daten mit Pandas ausgeben und diesen Befehl in einer Variablen ablegen:\n",
    "\n",
    "checkouts_2019 = pd.read_csv(checkouts_file_2019, index_col=0)\n",
    "# -> Variable \"checkouts\" liest (zukünftig) die csv-Datei \"checkouts_file\" mit Hilfe von Pandas (pd) aus:\n",
    "\n",
    "checkouts_2019"
   ]
  },
  {
   "cell_type": "code",
   "execution_count": 58,
   "metadata": {},
   "outputs": [
    {
     "data": {
      "text/html": [
       "<div>\n",
       "<style scoped>\n",
       "    .dataframe tbody tr th:only-of-type {\n",
       "        vertical-align: middle;\n",
       "    }\n",
       "\n",
       "    .dataframe tbody tr th {\n",
       "        vertical-align: top;\n",
       "    }\n",
       "\n",
       "    .dataframe thead th {\n",
       "        text-align: right;\n",
       "    }\n",
       "</style>\n",
       "<table border=\"1\" class=\"dataframe\">\n",
       "  <thead>\n",
       "    <tr style=\"text-align: right;\">\n",
       "      <th></th>\n",
       "      <th>checkouttype</th>\n",
       "      <th>materialtype</th>\n",
       "      <th>checkoutyear</th>\n",
       "      <th>checkoutmonth</th>\n",
       "      <th>checkouts</th>\n",
       "      <th>title</th>\n",
       "      <th>creator</th>\n",
       "      <th>subjects</th>\n",
       "      <th>publisher</th>\n",
       "      <th>publicationyear</th>\n",
       "    </tr>\n",
       "    <tr>\n",
       "      <th>usageclass</th>\n",
       "      <th></th>\n",
       "      <th></th>\n",
       "      <th></th>\n",
       "      <th></th>\n",
       "      <th></th>\n",
       "      <th></th>\n",
       "      <th></th>\n",
       "      <th></th>\n",
       "      <th></th>\n",
       "      <th></th>\n",
       "    </tr>\n",
       "  </thead>\n",
       "  <tbody>\n",
       "    <tr>\n",
       "      <th>Digital</th>\n",
       "      <td>OverDrive</td>\n",
       "      <td>EBOOK</td>\n",
       "      <td>2020</td>\n",
       "      <td>5</td>\n",
       "      <td>5</td>\n",
       "      <td>Just One Night: A Sex, Love &amp; Stiletto Novel</td>\n",
       "      <td>Lauren Layne</td>\n",
       "      <td>Fiction, Romance</td>\n",
       "      <td>Random House, Inc.</td>\n",
       "      <td>2015</td>\n",
       "    </tr>\n",
       "    <tr>\n",
       "      <th>Digital</th>\n",
       "      <td>OverDrive</td>\n",
       "      <td>EBOOK</td>\n",
       "      <td>2020</td>\n",
       "      <td>5</td>\n",
       "      <td>3</td>\n",
       "      <td>The Impossible Climb: Alex Honnold, El Capitan...</td>\n",
       "      <td>Mark Synnott</td>\n",
       "      <td>Nonfiction, Sports &amp; Recreations</td>\n",
       "      <td>Penguin Group (USA), Inc.</td>\n",
       "      <td>2019</td>\n",
       "    </tr>\n",
       "    <tr>\n",
       "      <th>Digital</th>\n",
       "      <td>OverDrive</td>\n",
       "      <td>EBOOK</td>\n",
       "      <td>2020</td>\n",
       "      <td>5</td>\n",
       "      <td>1</td>\n",
       "      <td>Hemlock at Vespers: Sister Fidelma Series, Book 9</td>\n",
       "      <td>Peter Tremayne</td>\n",
       "      <td>Fiction, Historical Fiction, Mystery</td>\n",
       "      <td>Macmillan Publishers</td>\n",
       "      <td>2013</td>\n",
       "    </tr>\n",
       "    <tr>\n",
       "      <th>Digital</th>\n",
       "      <td>OverDrive</td>\n",
       "      <td>AUDIOBOOK</td>\n",
       "      <td>2020</td>\n",
       "      <td>5</td>\n",
       "      <td>1</td>\n",
       "      <td>Inherit the Stars: Giants Series, Book 1 (unab...</td>\n",
       "      <td>James P. Hogan</td>\n",
       "      <td>Fiction, Science Fiction</td>\n",
       "      <td>Blackstone Audio, Inc.</td>\n",
       "      <td>2013</td>\n",
       "    </tr>\n",
       "    <tr>\n",
       "      <th>Digital</th>\n",
       "      <td>OverDrive</td>\n",
       "      <td>AUDIOBOOK</td>\n",
       "      <td>2020</td>\n",
       "      <td>5</td>\n",
       "      <td>9</td>\n",
       "      <td>Death of a Liar: Hamish Macbeth Mystery Series...</td>\n",
       "      <td>M. C. Beaton</td>\n",
       "      <td>Fiction, Mystery</td>\n",
       "      <td>Blackstone Audio, Inc.</td>\n",
       "      <td>2015</td>\n",
       "    </tr>\n",
       "    <tr>\n",
       "      <th>...</th>\n",
       "      <td>...</td>\n",
       "      <td>...</td>\n",
       "      <td>...</td>\n",
       "      <td>...</td>\n",
       "      <td>...</td>\n",
       "      <td>...</td>\n",
       "      <td>...</td>\n",
       "      <td>...</td>\n",
       "      <td>...</td>\n",
       "      <td>...</td>\n",
       "    </tr>\n",
       "    <tr>\n",
       "      <th>Digital</th>\n",
       "      <td>OverDrive</td>\n",
       "      <td>AUDIOBOOK</td>\n",
       "      <td>2020</td>\n",
       "      <td>5</td>\n",
       "      <td>1</td>\n",
       "      <td>Waiting for the Weekend (Unabridged)</td>\n",
       "      <td>Witold Rybczynski</td>\n",
       "      <td>History, Nonfiction</td>\n",
       "      <td>Blackstone Audio, Inc.</td>\n",
       "      <td>2014</td>\n",
       "    </tr>\n",
       "    <tr>\n",
       "      <th>Digital</th>\n",
       "      <td>OverDrive</td>\n",
       "      <td>AUDIOBOOK</td>\n",
       "      <td>2020</td>\n",
       "      <td>5</td>\n",
       "      <td>3</td>\n",
       "      <td>The Feral Detective: A Novel (unabridged) (Una...</td>\n",
       "      <td>Jonathan Lethem</td>\n",
       "      <td>Fiction, Literature, Mystery</td>\n",
       "      <td>HarperCollins Publishers Inc.</td>\n",
       "      <td>2018</td>\n",
       "    </tr>\n",
       "    <tr>\n",
       "      <th>Digital</th>\n",
       "      <td>OverDrive</td>\n",
       "      <td>AUDIOBOOK</td>\n",
       "      <td>2020</td>\n",
       "      <td>5</td>\n",
       "      <td>5</td>\n",
       "      <td>Foul is Fair: A Novel (unabridged) (Unabridged)</td>\n",
       "      <td>Hannah Capin</td>\n",
       "      <td>Suspense, Thriller, Young Adult Fiction, Young...</td>\n",
       "      <td>Macmillan Audio</td>\n",
       "      <td>2020</td>\n",
       "    </tr>\n",
       "    <tr>\n",
       "      <th>Digital</th>\n",
       "      <td>OverDrive</td>\n",
       "      <td>EBOOK</td>\n",
       "      <td>2020</td>\n",
       "      <td>5</td>\n",
       "      <td>1</td>\n",
       "      <td>The Life and Opinions of Tristram Shandy, Gent...</td>\n",
       "      <td>Laurence Sterne</td>\n",
       "      <td>Classic Literature, Fiction, Historical Fictio...</td>\n",
       "      <td>Random House, Inc.</td>\n",
       "      <td>2012</td>\n",
       "    </tr>\n",
       "    <tr>\n",
       "      <th>Digital</th>\n",
       "      <td>OverDrive</td>\n",
       "      <td>EBOOK</td>\n",
       "      <td>2020</td>\n",
       "      <td>5</td>\n",
       "      <td>1</td>\n",
       "      <td>The Only Victor: Bolitho Series, Book 20</td>\n",
       "      <td>Alexander Kent</td>\n",
       "      <td>Fiction, Historical Fiction</td>\n",
       "      <td>Independent Publishers Group</td>\n",
       "      <td>2011</td>\n",
       "    </tr>\n",
       "  </tbody>\n",
       "</table>\n",
       "<p>10000 rows × 10 columns</p>\n",
       "</div>"
      ],
      "text/plain": [
       "           checkouttype materialtype  checkoutyear  checkoutmonth  checkouts  \\\n",
       "usageclass                                                                     \n",
       "Digital       OverDrive        EBOOK          2020              5          5   \n",
       "Digital       OverDrive        EBOOK          2020              5          3   \n",
       "Digital       OverDrive        EBOOK          2020              5          1   \n",
       "Digital       OverDrive    AUDIOBOOK          2020              5          1   \n",
       "Digital       OverDrive    AUDIOBOOK          2020              5          9   \n",
       "...                 ...          ...           ...            ...        ...   \n",
       "Digital       OverDrive    AUDIOBOOK          2020              5          1   \n",
       "Digital       OverDrive    AUDIOBOOK          2020              5          3   \n",
       "Digital       OverDrive    AUDIOBOOK          2020              5          5   \n",
       "Digital       OverDrive        EBOOK          2020              5          1   \n",
       "Digital       OverDrive        EBOOK          2020              5          1   \n",
       "\n",
       "                                                        title  \\\n",
       "usageclass                                                      \n",
       "Digital          Just One Night: A Sex, Love & Stiletto Novel   \n",
       "Digital     The Impossible Climb: Alex Honnold, El Capitan...   \n",
       "Digital     Hemlock at Vespers: Sister Fidelma Series, Book 9   \n",
       "Digital     Inherit the Stars: Giants Series, Book 1 (unab...   \n",
       "Digital     Death of a Liar: Hamish Macbeth Mystery Series...   \n",
       "...                                                       ...   \n",
       "Digital                  Waiting for the Weekend (Unabridged)   \n",
       "Digital     The Feral Detective: A Novel (unabridged) (Una...   \n",
       "Digital       Foul is Fair: A Novel (unabridged) (Unabridged)   \n",
       "Digital     The Life and Opinions of Tristram Shandy, Gent...   \n",
       "Digital              The Only Victor: Bolitho Series, Book 20   \n",
       "\n",
       "                      creator  \\\n",
       "usageclass                      \n",
       "Digital          Lauren Layne   \n",
       "Digital          Mark Synnott   \n",
       "Digital        Peter Tremayne   \n",
       "Digital        James P. Hogan   \n",
       "Digital          M. C. Beaton   \n",
       "...                       ...   \n",
       "Digital     Witold Rybczynski   \n",
       "Digital       Jonathan Lethem   \n",
       "Digital          Hannah Capin   \n",
       "Digital       Laurence Sterne   \n",
       "Digital        Alexander Kent   \n",
       "\n",
       "                                                     subjects  \\\n",
       "usageclass                                                      \n",
       "Digital                                      Fiction, Romance   \n",
       "Digital                      Nonfiction, Sports & Recreations   \n",
       "Digital                  Fiction, Historical Fiction, Mystery   \n",
       "Digital                              Fiction, Science Fiction   \n",
       "Digital                                      Fiction, Mystery   \n",
       "...                                                       ...   \n",
       "Digital                                   History, Nonfiction   \n",
       "Digital                          Fiction, Literature, Mystery   \n",
       "Digital     Suspense, Thriller, Young Adult Fiction, Young...   \n",
       "Digital     Classic Literature, Fiction, Historical Fictio...   \n",
       "Digital                           Fiction, Historical Fiction   \n",
       "\n",
       "                                publisher publicationyear  \n",
       "usageclass                                                 \n",
       "Digital                Random House, Inc.            2015  \n",
       "Digital         Penguin Group (USA), Inc.            2019  \n",
       "Digital              Macmillan Publishers            2013  \n",
       "Digital            Blackstone Audio, Inc.            2013  \n",
       "Digital            Blackstone Audio, Inc.            2015  \n",
       "...                                   ...             ...  \n",
       "Digital            Blackstone Audio, Inc.            2014  \n",
       "Digital     HarperCollins Publishers Inc.            2018  \n",
       "Digital                   Macmillan Audio            2020  \n",
       "Digital                Random House, Inc.            2012  \n",
       "Digital      Independent Publishers Group            2011  \n",
       "\n",
       "[10000 rows x 10 columns]"
      ]
     },
     "execution_count": 58,
     "metadata": {},
     "output_type": "execute_result"
    }
   ],
   "source": [
    "checkouts_2020 = pd.read_csv(checkouts_file_2020, index_col=0)\n",
    "\n",
    "checkouts_2020"
   ]
  },
  {
   "cell_type": "markdown",
   "metadata": {},
   "source": [
    "### ---- Frage 1: Wieviele E-Books wurden im Jahr 2019 im Vergleich zu physischen Büchern ausgeliehen? \n"
   ]
  },
  {
   "cell_type": "code",
   "execution_count": 16,
   "metadata": {},
   "outputs": [
    {
     "data": {
      "text/plain": [
       "Index(['checkouttype', 'materialtype', 'checkoutyear', 'checkoutmonth',\n",
       "       'checkouts', 'title', 'creator', 'subjects', 'publisher',\n",
       "       'publicationyear'],\n",
       "      dtype='object')"
      ]
     },
     "execution_count": 16,
     "metadata": {},
     "output_type": "execute_result"
    }
   ],
   "source": [
    "# Zunächst lasse ich mir alle Spalten anzeigen, um eine Übersicht zu bekommen:\n",
    "\n",
    "checkouts_2019.columns"
   ]
  },
  {
   "cell_type": "code",
   "execution_count": 17,
   "metadata": {},
   "outputs": [
    {
     "data": {
      "text/html": [
       "<div>\n",
       "<style scoped>\n",
       "    .dataframe tbody tr th:only-of-type {\n",
       "        vertical-align: middle;\n",
       "    }\n",
       "\n",
       "    .dataframe tbody tr th {\n",
       "        vertical-align: top;\n",
       "    }\n",
       "\n",
       "    .dataframe thead th {\n",
       "        text-align: right;\n",
       "    }\n",
       "</style>\n",
       "<table border=\"1\" class=\"dataframe\">\n",
       "  <thead>\n",
       "    <tr style=\"text-align: right;\">\n",
       "      <th></th>\n",
       "      <th>checkouttype</th>\n",
       "      <th>materialtype</th>\n",
       "      <th>checkoutyear</th>\n",
       "      <th>checkoutmonth</th>\n",
       "      <th>checkouts</th>\n",
       "      <th>title</th>\n",
       "      <th>creator</th>\n",
       "      <th>subjects</th>\n",
       "      <th>publisher</th>\n",
       "      <th>publicationyear</th>\n",
       "    </tr>\n",
       "    <tr>\n",
       "      <th>usageclass</th>\n",
       "      <th></th>\n",
       "      <th></th>\n",
       "      <th></th>\n",
       "      <th></th>\n",
       "      <th></th>\n",
       "      <th></th>\n",
       "      <th></th>\n",
       "      <th></th>\n",
       "      <th></th>\n",
       "      <th></th>\n",
       "    </tr>\n",
       "  </thead>\n",
       "  <tbody>\n",
       "    <tr>\n",
       "      <th>Digital</th>\n",
       "      <td>OverDrive</td>\n",
       "      <td>AUDIOBOOK</td>\n",
       "      <td>2019</td>\n",
       "      <td>12</td>\n",
       "      <td>2</td>\n",
       "      <td>The Teenage Brain (Enchanced): A Neuroscientis...</td>\n",
       "      <td>Frances E. Jensen</td>\n",
       "      <td>Nonfiction, Psychology</td>\n",
       "      <td>HarperCollins Publishers Inc.</td>\n",
       "      <td>2015</td>\n",
       "    </tr>\n",
       "    <tr>\n",
       "      <th>Physical</th>\n",
       "      <td>Horizon</td>\n",
       "      <td>BOOK</td>\n",
       "      <td>2019</td>\n",
       "      <td>12</td>\n",
       "      <td>3</td>\n",
       "      <td>Richard Scarry's Smokey the fireman.</td>\n",
       "      <td>Scarry, Richard</td>\n",
       "      <td>Fire fighters Juvenile fiction, Animals Juveni...</td>\n",
       "      <td>Random House,</td>\n",
       "      <td>2015.</td>\n",
       "    </tr>\n",
       "    <tr>\n",
       "      <th>Physical</th>\n",
       "      <td>Horizon</td>\n",
       "      <td>BOOK</td>\n",
       "      <td>2019</td>\n",
       "      <td>12</td>\n",
       "      <td>1</td>\n",
       "      <td>Vernon Subutex : roman. Tome 1 / Virginie Desp...</td>\n",
       "      <td>Despentes, Virginie, 1969-</td>\n",
       "      <td>Music stores France Paris Fiction, Businessmen...</td>\n",
       "      <td>Grasset : Les Éditions Graset &amp; Fasquelle : Li...</td>\n",
       "      <td>janvier 2018.</td>\n",
       "    </tr>\n",
       "    <tr>\n",
       "      <th>Physical</th>\n",
       "      <td>Horizon</td>\n",
       "      <td>BOOK</td>\n",
       "      <td>2019</td>\n",
       "      <td>12</td>\n",
       "      <td>1</td>\n",
       "      <td>The lost Gospel of Mary : the Mother of Jesus ...</td>\n",
       "      <td>NaN</td>\n",
       "      <td>Mary Blessed Virgin Saint</td>\n",
       "      <td>Paraclete Press,</td>\n",
       "      <td>[2007]</td>\n",
       "    </tr>\n",
       "    <tr>\n",
       "      <th>Digital</th>\n",
       "      <td>OverDrive</td>\n",
       "      <td>EBOOK</td>\n",
       "      <td>2019</td>\n",
       "      <td>12</td>\n",
       "      <td>2</td>\n",
       "      <td>Be Mine Forever: Bennetts Series, Book 3</td>\n",
       "      <td>Kennedy Ryan</td>\n",
       "      <td>Fiction, Literature, Romance</td>\n",
       "      <td>Hachette Digital, Inc.</td>\n",
       "      <td>2015</td>\n",
       "    </tr>\n",
       "  </tbody>\n",
       "</table>\n",
       "</div>"
      ],
      "text/plain": [
       "           checkouttype materialtype  checkoutyear  checkoutmonth  checkouts  \\\n",
       "usageclass                                                                     \n",
       "Digital       OverDrive    AUDIOBOOK          2019             12          2   \n",
       "Physical        Horizon         BOOK          2019             12          3   \n",
       "Physical        Horizon         BOOK          2019             12          1   \n",
       "Physical        Horizon         BOOK          2019             12          1   \n",
       "Digital       OverDrive        EBOOK          2019             12          2   \n",
       "\n",
       "                                                        title  \\\n",
       "usageclass                                                      \n",
       "Digital     The Teenage Brain (Enchanced): A Neuroscientis...   \n",
       "Physical                 Richard Scarry's Smokey the fireman.   \n",
       "Physical    Vernon Subutex : roman. Tome 1 / Virginie Desp...   \n",
       "Physical    The lost Gospel of Mary : the Mother of Jesus ...   \n",
       "Digital              Be Mine Forever: Bennetts Series, Book 3   \n",
       "\n",
       "                               creator  \\\n",
       "usageclass                               \n",
       "Digital              Frances E. Jensen   \n",
       "Physical               Scarry, Richard   \n",
       "Physical    Despentes, Virginie, 1969-   \n",
       "Physical                           NaN   \n",
       "Digital                   Kennedy Ryan   \n",
       "\n",
       "                                                     subjects  \\\n",
       "usageclass                                                      \n",
       "Digital                                Nonfiction, Psychology   \n",
       "Physical    Fire fighters Juvenile fiction, Animals Juveni...   \n",
       "Physical    Music stores France Paris Fiction, Businessmen...   \n",
       "Physical                            Mary Blessed Virgin Saint   \n",
       "Digital                          Fiction, Literature, Romance   \n",
       "\n",
       "                                                    publisher publicationyear  \n",
       "usageclass                                                                     \n",
       "Digital                         HarperCollins Publishers Inc.            2015  \n",
       "Physical                                        Random House,           2015.  \n",
       "Physical    Grasset : Les Éditions Graset & Fasquelle : Li...   janvier 2018.  \n",
       "Physical                                     Paraclete Press,          [2007]  \n",
       "Digital                                Hachette Digital, Inc.            2015  "
      ]
     },
     "execution_count": 17,
     "metadata": {},
     "output_type": "execute_result"
    }
   ],
   "source": [
    "# Als grafische Alternative lasse ich mir die ersten paar Zeilen anzeigen:\n",
    "\n",
    "checkouts_2019.head()"
   ]
  },
  {
   "cell_type": "code",
   "execution_count": 18,
   "metadata": {},
   "outputs": [
    {
     "data": {
      "text/plain": [
       "checkouttype       object\n",
       "materialtype       object\n",
       "checkoutyear        int64\n",
       "checkoutmonth       int64\n",
       "checkouts           int64\n",
       "title              object\n",
       "creator            object\n",
       "subjects           object\n",
       "publisher          object\n",
       "publicationyear    object\n",
       "dtype: object"
      ]
     },
     "execution_count": 18,
     "metadata": {},
     "output_type": "execute_result"
    }
   ],
   "source": [
    "# Dann lasse ich mir die Datentypen anzeigen:\n",
    "\n",
    "checkouts_2019.dtypes"
   ]
  },
  {
   "cell_type": "code",
   "execution_count": 19,
   "metadata": {},
   "outputs": [
    {
     "data": {
      "text/plain": [
       "usageclass\n",
       "Digital     AUDIOBOOK\n",
       "Physical         BOOK\n",
       "Physical         BOOK\n",
       "Physical         BOOK\n",
       "Digital         EBOOK\n",
       "              ...    \n",
       "Physical         BOOK\n",
       "Digital         EBOOK\n",
       "Digital         EBOOK\n",
       "Physical         BOOK\n",
       "Physical    VIDEODISC\n",
       "Name: materialtype, Length: 10000, dtype: object"
      ]
     },
     "execution_count": 19,
     "metadata": {},
     "output_type": "execute_result"
    }
   ],
   "source": [
    "# Nun möchte ich mir die Spalte anzeigen lassen, die den Materialtyp beschäftigt\n",
    "\n",
    "checkouts_2019[\"materialtype\"]"
   ]
  },
  {
   "cell_type": "code",
   "execution_count": 20,
   "metadata": {},
   "outputs": [
    {
     "data": {
      "text/plain": [
       "BOOK                              4416\n",
       "EBOOK                             2749\n",
       "AUDIOBOOK                         1133\n",
       "VIDEODISC                          883\n",
       "SOUNDDISC                          746\n",
       "REGPRINT                            23\n",
       "MUSIC                               15\n",
       "VIDEO                                9\n",
       "SOUNDDISC, VIDEODISC                 9\n",
       "ER                                   4\n",
       "LARGEPRINT                           4\n",
       "ER, SOUNDDISC                        3\n",
       "ATLAS                                1\n",
       "VISUAL                               1\n",
       "SOUNDREC                             1\n",
       "CR                                   1\n",
       "SOUNDCASS, SOUNDDISC, SOUNDREC       1\n",
       "MUSICSNDREC                          1\n",
       "Name: materialtype, dtype: int64"
      ]
     },
     "execution_count": 20,
     "metadata": {},
     "output_type": "execute_result"
    }
   ],
   "source": [
    "# ... dies ist noch nicht sonderlich aussagekräftig ...\n",
    "# ... deshalb wird nun mit der Funktion \"value_counts\" gezählt, wieviel von dem jeweiligen Materialtyp ausgeliehen wurde.\n",
    "\n",
    "checkouts_2019.materialtype.value_counts()"
   ]
  },
  {
   "cell_type": "code",
   "execution_count": 21,
   "metadata": {},
   "outputs": [
    {
     "data": {
      "text/plain": [
       "<matplotlib.axes._subplots.AxesSubplot at 0x26993952d48>"
      ]
     },
     "execution_count": 21,
     "metadata": {},
     "output_type": "execute_result"
    },
    {
     "data": {
      "image/png": "[encoded data removed]",
      "text/plain": [
       "<Figure size 432x288 with 1 Axes>"
      ]
     },
     "metadata": {
      "needs_background": "light"
     },
     "output_type": "display_data"
    }
   ],
   "source": [
    "# Und da habe ich auch schon mein Ergebnis. \n",
    "\n",
    "# Nun möchte ich aber auch noch gerne grafisch darstellen, wie groß der Anteil der E-Book-Ausleihen im Vergleich zu dem Anteil der physischen Literatur ist.\n",
    "\n",
    "checkouts_2019[\"materialtype\"].hist()"
   ]
  },
  {
   "cell_type": "code",
   "execution_count": 59,
   "metadata": {},
   "outputs": [],
   "source": [
    "# ... ich hätte aber gerne nur die Books und die E-Books in der Grafik dargestellt ...\n",
    "\n",
    "# ----> FRAGE: Wie zum Teufel mache ich das???\n"
   ]
  },
  {
   "cell_type": "markdown",
   "metadata": {},
   "source": [
    "### Antwort: Es wurden insgesamt  4421 Bücher ausgeliehen und 2747 E-Books."
   ]
  },
  {
   "cell_type": "markdown",
   "metadata": {},
   "source": [
    "### ----   Frage 2: Wieviele digitale Medien wurden bisher im Jahr 2020 im Vergleich zu physischen Medien ausgeliehen? "
   ]
  },
  {
   "cell_type": "code",
   "execution_count": 50,
   "metadata": {},
   "outputs": [
    {
     "data": {
      "text/plain": [
       "usageclass\n",
       "Digital        EBOOK\n",
       "Digital        EBOOK\n",
       "Digital        EBOOK\n",
       "Digital    AUDIOBOOK\n",
       "Digital    AUDIOBOOK\n",
       "             ...    \n",
       "Digital    AUDIOBOOK\n",
       "Digital    AUDIOBOOK\n",
       "Digital    AUDIOBOOK\n",
       "Digital        EBOOK\n",
       "Digital        EBOOK\n",
       "Name: materialtype, Length: 10000, dtype: object"
      ]
     },
     "execution_count": 50,
     "metadata": {},
     "output_type": "execute_result"
    }
   ],
   "source": [
    "# Zur Erinnerung: es gibt Materialtypen, die unterschiedliche \"usageclasses\" haben, d.h. sie sind \"Digital\" oder \"Physical\":\n",
    "\n",
    "checkouts_2020[\"materialtype\"]"
   ]
  },
  {
   "cell_type": "code",
   "execution_count": 49,
   "metadata": {},
   "outputs": [
    {
     "data": {
      "text/html": [
       "<div>\n",
       "<style scoped>\n",
       "    .dataframe tbody tr th:only-of-type {\n",
       "        vertical-align: middle;\n",
       "    }\n",
       "\n",
       "    .dataframe tbody tr th {\n",
       "        vertical-align: top;\n",
       "    }\n",
       "\n",
       "    .dataframe thead th {\n",
       "        text-align: right;\n",
       "    }\n",
       "</style>\n",
       "<table border=\"1\" class=\"dataframe\">\n",
       "  <thead>\n",
       "    <tr style=\"text-align: right;\">\n",
       "      <th></th>\n",
       "      <th>usageclass</th>\n",
       "      <th>materialtype</th>\n",
       "    </tr>\n",
       "    <tr>\n",
       "      <th>usageclass</th>\n",
       "      <th></th>\n",
       "      <th></th>\n",
       "    </tr>\n",
       "  </thead>\n",
       "  <tbody>\n",
       "    <tr>\n",
       "      <th>Digital</th>\n",
       "      <td>Digital</td>\n",
       "      <td>EBOOK</td>\n",
       "    </tr>\n",
       "    <tr>\n",
       "      <th>Digital</th>\n",
       "      <td>Digital</td>\n",
       "      <td>EBOOK</td>\n",
       "    </tr>\n",
       "    <tr>\n",
       "      <th>Digital</th>\n",
       "      <td>Digital</td>\n",
       "      <td>EBOOK</td>\n",
       "    </tr>\n",
       "    <tr>\n",
       "      <th>Digital</th>\n",
       "      <td>Digital</td>\n",
       "      <td>AUDIOBOOK</td>\n",
       "    </tr>\n",
       "    <tr>\n",
       "      <th>Digital</th>\n",
       "      <td>Digital</td>\n",
       "      <td>AUDIOBOOK</td>\n",
       "    </tr>\n",
       "    <tr>\n",
       "      <th>...</th>\n",
       "      <td>...</td>\n",
       "      <td>...</td>\n",
       "    </tr>\n",
       "    <tr>\n",
       "      <th>Digital</th>\n",
       "      <td>Digital</td>\n",
       "      <td>AUDIOBOOK</td>\n",
       "    </tr>\n",
       "    <tr>\n",
       "      <th>Digital</th>\n",
       "      <td>Digital</td>\n",
       "      <td>AUDIOBOOK</td>\n",
       "    </tr>\n",
       "    <tr>\n",
       "      <th>Digital</th>\n",
       "      <td>Digital</td>\n",
       "      <td>AUDIOBOOK</td>\n",
       "    </tr>\n",
       "    <tr>\n",
       "      <th>Digital</th>\n",
       "      <td>Digital</td>\n",
       "      <td>EBOOK</td>\n",
       "    </tr>\n",
       "    <tr>\n",
       "      <th>Digital</th>\n",
       "      <td>Digital</td>\n",
       "      <td>EBOOK</td>\n",
       "    </tr>\n",
       "  </tbody>\n",
       "</table>\n",
       "<p>10000 rows × 2 columns</p>\n",
       "</div>"
      ],
      "text/plain": [
       "           usageclass materialtype\n",
       "usageclass                        \n",
       "Digital       Digital        EBOOK\n",
       "Digital       Digital        EBOOK\n",
       "Digital       Digital        EBOOK\n",
       "Digital       Digital    AUDIOBOOK\n",
       "Digital       Digital    AUDIOBOOK\n",
       "...               ...          ...\n",
       "Digital       Digital    AUDIOBOOK\n",
       "Digital       Digital    AUDIOBOOK\n",
       "Digital       Digital    AUDIOBOOK\n",
       "Digital       Digital        EBOOK\n",
       "Digital       Digital        EBOOK\n",
       "\n",
       "[10000 rows x 2 columns]"
      ]
     },
     "execution_count": 49,
     "metadata": {},
     "output_type": "execute_result"
    }
   ],
   "source": [
    "# ... oder anders und schöner formatiert:\n",
    "\n",
    "checkouts_2020[[\"usageclass\", \"materialtype\"]]"
   ]
  },
  {
   "cell_type": "code",
   "execution_count": 55,
   "metadata": {},
   "outputs": [
    {
     "data": {
      "text/plain": [
       "str"
      ]
     },
     "execution_count": 55,
     "metadata": {},
     "output_type": "execute_result"
    }
   ],
   "source": [
    "# Ich weiß zwar nicht warum genau, lasse mir aber jetzt mal anzeigen, was \"usageclass\" für ein Typ ist:\n",
    "\n",
    "type('usageclass')\n",
    "\n",
    "# ----> FRAGE: Muss ich das umwandeln, wenn es ein String ist, damit ich es zählen kann?"
   ]
  },
  {
   "cell_type": "code",
   "execution_count": 56,
   "metadata": {},
   "outputs": [
    {
     "ename": "SyntaxError",
     "evalue": "invalid syntax (<ipython-input-56-381074c1ecb5>, line 4)",
     "output_type": "error",
     "traceback": [
      "\u001b[1;36m  File \u001b[1;32m\"<ipython-input-56-381074c1ecb5>\"\u001b[1;36m, line \u001b[1;32m4\u001b[0m\n\u001b[1;33m    digital_media =\u001b[0m\n\u001b[1;37m                    ^\u001b[0m\n\u001b[1;31mSyntaxError\u001b[0m\u001b[1;31m:\u001b[0m invalid syntax\n"
     ]
    }
   ],
   "source": [
    "# Nun möchte ich gerne zählen, wieviele digitale Medien ausgeliehen wurden und lege für die Auszählung eine Variable an, ... \n",
    "# ... damit ich später mit dieser Variablen eine hübsche Grafik erstellen kann:\n",
    "\n",
    "digital_media = "
   ]
  },
  {
   "cell_type": "code",
   "execution_count": null,
   "metadata": {},
   "outputs": [],
   "source": []
  }
 ],
 "metadata": {
  "kernelspec": {
   "display_name": "Python 3",
   "language": "python",
   "name": "python3"
  },
  "language_info": {
   "codemirror_mode": {
    "name": "ipython",
    "version": 3
   },
   "file_extension": ".py",
   "mimetype": "text/x-python",
   "name": "python",
   "nbconvert_exporter": "python",
   "pygments_lexer": "ipython3",
   "version": "3.7.6"
  }
 },
 "nbformat": 4,
 "nbformat_minor": 4
}
